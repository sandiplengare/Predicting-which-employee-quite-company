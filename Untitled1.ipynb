{
 "cells": [
  {
   "cell_type": "markdown",
   "id": "ec9a82e2",
   "metadata": {},
   "source": [
    "## Environment"
   ]
  },
  {
   "cell_type": "code",
   "execution_count": 1,
   "id": "9d43138f",
   "metadata": {},
   "outputs": [],
   "source": [
    "import pandas as pd\n",
    "import numpy as np\n",
    "import matplotlib.pyplot as plt\n",
    "import seaborn as sns\n",
    "from sklearn.preprocessing import LabelEncoder,OrdinalEncoder,OneHotEncoder\n",
    "from sklearn.model_selection import train_test_split\n",
    "from sklearn.linear_model import LogisticRegression\n",
    "from sklearn.metrics import f1_score,recall_score,precision_score,accuracy_score\n",
    "from sklearn.metrics import confusion_matrix,classification_report\n",
    "import warnings\n",
    "warnings.filterwarnings(\"ignore\")"
   ]
  },
  {
   "cell_type": "markdown",
   "id": "912e1a0b",
   "metadata": {},
   "source": [
    "## Data Gathering"
   ]
  },
  {
   "cell_type": "code",
   "execution_count": 2,
   "id": "a50800b4",
   "metadata": {},
   "outputs": [],
   "source": [
    "df = pd.read_csv(\"Employee_Satisfaction01.csv\")"
   ]
  },
  {
   "cell_type": "code",
   "execution_count": 3,
   "id": "245d4d76",
   "metadata": {},
   "outputs": [
    {
     "data": {
      "text/html": [
       "<div>\n",
       "<style scoped>\n",
       "    .dataframe tbody tr th:only-of-type {\n",
       "        vertical-align: middle;\n",
       "    }\n",
       "\n",
       "    .dataframe tbody tr th {\n",
       "        vertical-align: top;\n",
       "    }\n",
       "\n",
       "    .dataframe thead th {\n",
       "        text-align: right;\n",
       "    }\n",
       "</style>\n",
       "<table border=\"1\" class=\"dataframe\">\n",
       "  <thead>\n",
       "    <tr style=\"text-align: right;\">\n",
       "      <th></th>\n",
       "      <th>employee_id</th>\n",
       "      <th>number_project</th>\n",
       "      <th>average_montly_hours</th>\n",
       "      <th>time_spend_company</th>\n",
       "      <th>Work_accident</th>\n",
       "      <th>left</th>\n",
       "      <th>promotion_last_5years</th>\n",
       "      <th>department</th>\n",
       "      <th>salary</th>\n",
       "      <th>satisfaction_level</th>\n",
       "      <th>last_evaluation</th>\n",
       "    </tr>\n",
       "  </thead>\n",
       "  <tbody>\n",
       "    <tr>\n",
       "      <th>0</th>\n",
       "      <td>1003</td>\n",
       "      <td>2</td>\n",
       "      <td>157</td>\n",
       "      <td>3</td>\n",
       "      <td>0</td>\n",
       "      <td>1</td>\n",
       "      <td>0</td>\n",
       "      <td>sales</td>\n",
       "      <td>low</td>\n",
       "      <td>0.38</td>\n",
       "      <td>0.53</td>\n",
       "    </tr>\n",
       "    <tr>\n",
       "      <th>1</th>\n",
       "      <td>1005</td>\n",
       "      <td>5</td>\n",
       "      <td>262</td>\n",
       "      <td>6</td>\n",
       "      <td>0</td>\n",
       "      <td>1</td>\n",
       "      <td>0</td>\n",
       "      <td>sales</td>\n",
       "      <td>medium</td>\n",
       "      <td>0.80</td>\n",
       "      <td>0.86</td>\n",
       "    </tr>\n",
       "    <tr>\n",
       "      <th>2</th>\n",
       "      <td>1486</td>\n",
       "      <td>7</td>\n",
       "      <td>272</td>\n",
       "      <td>4</td>\n",
       "      <td>0</td>\n",
       "      <td>1</td>\n",
       "      <td>0</td>\n",
       "      <td>sales</td>\n",
       "      <td>medium</td>\n",
       "      <td>0.11</td>\n",
       "      <td>0.88</td>\n",
       "    </tr>\n",
       "    <tr>\n",
       "      <th>3</th>\n",
       "      <td>1038</td>\n",
       "      <td>5</td>\n",
       "      <td>223</td>\n",
       "      <td>5</td>\n",
       "      <td>0</td>\n",
       "      <td>1</td>\n",
       "      <td>0</td>\n",
       "      <td>sales</td>\n",
       "      <td>low</td>\n",
       "      <td>0.72</td>\n",
       "      <td>0.87</td>\n",
       "    </tr>\n",
       "    <tr>\n",
       "      <th>4</th>\n",
       "      <td>1057</td>\n",
       "      <td>2</td>\n",
       "      <td>159</td>\n",
       "      <td>3</td>\n",
       "      <td>0</td>\n",
       "      <td>1</td>\n",
       "      <td>0</td>\n",
       "      <td>sales</td>\n",
       "      <td>low</td>\n",
       "      <td>0.37</td>\n",
       "      <td>0.52</td>\n",
       "    </tr>\n",
       "  </tbody>\n",
       "</table>\n",
       "</div>"
      ],
      "text/plain": [
       "   employee_id  number_project  average_montly_hours  time_spend_company  \\\n",
       "0         1003               2                   157                   3   \n",
       "1         1005               5                   262                   6   \n",
       "2         1486               7                   272                   4   \n",
       "3         1038               5                   223                   5   \n",
       "4         1057               2                   159                   3   \n",
       "\n",
       "   Work_accident  left  promotion_last_5years department  salary  \\\n",
       "0              0     1                      0      sales     low   \n",
       "1              0     1                      0      sales  medium   \n",
       "2              0     1                      0      sales  medium   \n",
       "3              0     1                      0      sales     low   \n",
       "4              0     1                      0      sales     low   \n",
       "\n",
       "   satisfaction_level  last_evaluation  \n",
       "0                0.38             0.53  \n",
       "1                0.80             0.86  \n",
       "2                0.11             0.88  \n",
       "3                0.72             0.87  \n",
       "4                0.37             0.52  "
      ]
     },
     "execution_count": 3,
     "metadata": {},
     "output_type": "execute_result"
    }
   ],
   "source": [
    "df.head()"
   ]
  },
  {
   "cell_type": "markdown",
   "id": "49a6de62",
   "metadata": {},
   "source": [
    "## Exploratory Data Analysis"
   ]
  },
  {
   "cell_type": "markdown",
   "id": "47505bd7",
   "metadata": {},
   "source": [
    "#### 1. number_project"
   ]
  },
  {
   "cell_type": "code",
   "execution_count": 4,
   "id": "64071fea",
   "metadata": {},
   "outputs": [
    {
     "data": {
      "text/plain": [
       "0"
      ]
     },
     "execution_count": 4,
     "metadata": {},
     "output_type": "execute_result"
    }
   ],
   "source": [
    "df[\"number_project\"].isna().sum()"
   ]
  },
  {
   "cell_type": "code",
   "execution_count": 5,
   "id": "8a45def9",
   "metadata": {},
   "outputs": [
    {
     "data": {
      "text/plain": [
       "array([2, 5, 7, 6, 4, 3], dtype=int64)"
      ]
     },
     "execution_count": 5,
     "metadata": {},
     "output_type": "execute_result"
    }
   ],
   "source": [
    "df[\"number_project\"].unique()"
   ]
  },
  {
   "cell_type": "code",
   "execution_count": 6,
   "id": "540dbbb5",
   "metadata": {},
   "outputs": [
    {
     "data": {
      "text/plain": [
       "4    4365\n",
       "3    4055\n",
       "5    2761\n",
       "2    2388\n",
       "6    1174\n",
       "7     256\n",
       "Name: number_project, dtype: int64"
      ]
     },
     "execution_count": 6,
     "metadata": {},
     "output_type": "execute_result"
    }
   ],
   "source": [
    "df[\"number_project\"].value_counts()"
   ]
  },
  {
   "cell_type": "code",
   "execution_count": 7,
   "id": "b0076c60",
   "metadata": {},
   "outputs": [
    {
     "data": {
      "text/plain": [
       "<AxesSubplot:xlabel='number_project'>"
      ]
     },
     "execution_count": 7,
     "metadata": {},
     "output_type": "execute_result"
    },
    {
     "data": {
      "image/png": "[encoded data removed]",
      "text/plain": [
       "<Figure size 432x288 with 1 Axes>"
      ]
     },
     "metadata": {
      "needs_background": "light"
     },
     "output_type": "display_data"
    }
   ],
   "source": [
    "sns.boxplot(df[\"number_project\"])"
   ]
  },
  {
   "cell_type": "code",
   "execution_count": 8,
   "id": "76a4777c",
   "metadata": {},
   "outputs": [
    {
     "data": {
      "text/plain": [
       "<AxesSubplot:xlabel='number_project', ylabel='Density'>"
      ]
     },
     "execution_count": 8,
     "metadata": {},
     "output_type": "execute_result"
    },
    {
     "data": {
      "image/png": "[encoded data removed]",
      "text/plain": [
       "<Figure size 432x288 with 1 Axes>"
      ]
     },
     "metadata": {
      "needs_background": "light"
     },
     "output_type": "display_data"
    }
   ],
   "source": [
    "sns.kdeplot(df[\"number_project\"])"
   ]
  },
  {
   "cell_type": "markdown",
   "id": "d06dc012",
   "metadata": {},
   "source": [
    "There is no null values in this feature.\n",
    "\n",
    "There is integer values in this feature not requried encoding.\n",
    "\n",
    "There is no outliers present in this feature."
   ]
  },
  {
   "cell_type": "markdown",
   "id": "e82aa2f6",
   "metadata": {},
   "source": [
    "#### 2. average_montly_hours"
   ]
  },
  {
   "cell_type": "code",
   "execution_count": 9,
   "id": "24432122",
   "metadata": {},
   "outputs": [
    {
     "data": {
      "text/plain": [
       "0"
      ]
     },
     "execution_count": 9,
     "metadata": {},
     "output_type": "execute_result"
    }
   ],
   "source": [
    "df[\"average_montly_hours\"].isna().sum()"
   ]
  },
  {
   "cell_type": "code",
   "execution_count": 10,
   "id": "48972aec",
   "metadata": {},
   "outputs": [
    {
     "name": "stdout",
     "output_type": "stream",
     "text": [
      "<class 'pandas.core.series.Series'>\n",
      "RangeIndex: 14999 entries, 0 to 14998\n",
      "Series name: average_montly_hours\n",
      "Non-Null Count  Dtype\n",
      "--------------  -----\n",
      "14999 non-null  int64\n",
      "dtypes: int64(1)\n",
      "memory usage: 117.3 KB\n"
     ]
    }
   ],
   "source": [
    "df[\"average_montly_hours\"].info()"
   ]
  },
  {
   "cell_type": "code",
   "execution_count": 11,
   "id": "825d5a25",
   "metadata": {},
   "outputs": [
    {
     "data": {
      "text/plain": [
       "<AxesSubplot:xlabel='average_montly_hours'>"
      ]
     },
     "execution_count": 11,
     "metadata": {},
     "output_type": "execute_result"
    },
    {
     "data": {
      "image/png": "[encoded data removed]",
      "text/plain": [
       "<Figure size 432x288 with 1 Axes>"
      ]
     },
     "metadata": {
      "needs_background": "light"
     },
     "output_type": "display_data"
    }
   ],
   "source": [
    "sns.boxplot(df[\"average_montly_hours\"])"
   ]
  },
  {
   "cell_type": "markdown",
   "id": "309d53c5",
   "metadata": {},
   "source": [
    "There is no outliers and null values in this feature not required encoding here."
   ]
  },
  {
   "cell_type": "markdown",
   "id": "0c6bd7c5",
   "metadata": {},
   "source": [
    "#### 3. time_spend_company"
   ]
  },
  {
   "cell_type": "code",
   "execution_count": 12,
   "id": "f5b94d78",
   "metadata": {},
   "outputs": [
    {
     "name": "stdout",
     "output_type": "stream",
     "text": [
      "<class 'pandas.core.series.Series'>\n",
      "RangeIndex: 14999 entries, 0 to 14998\n",
      "Series name: time_spend_company\n",
      "Non-Null Count  Dtype\n",
      "--------------  -----\n",
      "14999 non-null  int64\n",
      "dtypes: int64(1)\n",
      "memory usage: 117.3 KB\n"
     ]
    }
   ],
   "source": [
    "df[\"time_spend_company\"].info()"
   ]
  },
  {
   "cell_type": "code",
   "execution_count": 13,
   "id": "c907022d",
   "metadata": {},
   "outputs": [
    {
     "data": {
      "text/plain": [
       "<AxesSubplot:xlabel='time_spend_company'>"
      ]
     },
     "execution_count": 13,
     "metadata": {},
     "output_type": "execute_result"
    },
    {
     "data": {
      "image/png": "[encoded data removed]",
      "text/plain": [
       "<Figure size 432x288 with 1 Axes>"
      ]
     },
     "metadata": {
      "needs_background": "light"
     },
     "output_type": "display_data"
    }
   ],
   "source": [
    "sns.boxplot(df[\"time_spend_company\"])"
   ]
  },
  {
   "cell_type": "markdown",
   "id": "cb05e900",
   "metadata": {},
   "source": [
    "There is some ouliears in this feature, so we have to handle it in feature engineering."
   ]
  },
  {
   "cell_type": "markdown",
   "id": "64754100",
   "metadata": {},
   "source": [
    "#### 4. Work_accident"
   ]
  },
  {
   "cell_type": "code",
   "execution_count": 14,
   "id": "6231f27e",
   "metadata": {},
   "outputs": [
    {
     "data": {
      "text/plain": [
       "array([0, 1], dtype=int64)"
      ]
     },
     "execution_count": 14,
     "metadata": {},
     "output_type": "execute_result"
    }
   ],
   "source": [
    "df[\"Work_accident\"].unique()"
   ]
  },
  {
   "cell_type": "code",
   "execution_count": 15,
   "id": "c8bdc879",
   "metadata": {},
   "outputs": [
    {
     "name": "stdout",
     "output_type": "stream",
     "text": [
      "<class 'pandas.core.series.Series'>\n",
      "RangeIndex: 14999 entries, 0 to 14998\n",
      "Series name: Work_accident\n",
      "Non-Null Count  Dtype\n",
      "--------------  -----\n",
      "14999 non-null  int64\n",
      "dtypes: int64(1)\n",
      "memory usage: 117.3 KB\n"
     ]
    }
   ],
   "source": [
    "df[\"Work_accident\"].info()"
   ]
  },
  {
   "cell_type": "code",
   "execution_count": 16,
   "id": "5a5d987c",
   "metadata": {},
   "outputs": [
    {
     "data": {
      "text/plain": [
       "<AxesSubplot:xlabel='Work_accident'>"
      ]
     },
     "execution_count": 16,
     "metadata": {},
     "output_type": "execute_result"
    },
    {
     "data": {
      "image/png": "[encoded data removed]",
      "text/plain": [
       "<Figure size 432x288 with 1 Axes>"
      ]
     },
     "metadata": {
      "needs_background": "light"
     },
     "output_type": "display_data"
    }
   ],
   "source": [
    "sns.boxplot(df[\"Work_accident\"])"
   ]
  },
  {
   "cell_type": "code",
   "execution_count": 17,
   "id": "9c92743c",
   "metadata": {},
   "outputs": [
    {
     "data": {
      "text/plain": [
       "0    12830\n",
       "1     2169\n",
       "Name: Work_accident, dtype: int64"
      ]
     },
     "execution_count": 17,
     "metadata": {},
     "output_type": "execute_result"
    }
   ],
   "source": [
    "df[\"Work_accident\"].value_counts()"
   ]
  },
  {
   "cell_type": "markdown",
   "id": "16a739b4",
   "metadata": {},
   "source": [
    "There is not null values and no ouliears present in this feature."
   ]
  },
  {
   "cell_type": "markdown",
   "id": "0d428b78",
   "metadata": {},
   "source": [
    "#### 5. left"
   ]
  },
  {
   "cell_type": "code",
   "execution_count": 18,
   "id": "28d7d0a8",
   "metadata": {},
   "outputs": [
    {
     "name": "stdout",
     "output_type": "stream",
     "text": [
      "<class 'pandas.core.series.Series'>\n",
      "RangeIndex: 14999 entries, 0 to 14998\n",
      "Series name: left\n",
      "Non-Null Count  Dtype\n",
      "--------------  -----\n",
      "14999 non-null  int64\n",
      "dtypes: int64(1)\n",
      "memory usage: 117.3 KB\n"
     ]
    }
   ],
   "source": [
    "df[\"left\"].info()"
   ]
  },
  {
   "cell_type": "code",
   "execution_count": 19,
   "id": "c890bfc4",
   "metadata": {},
   "outputs": [
    {
     "data": {
      "text/plain": [
       "<AxesSubplot:xlabel='left'>"
      ]
     },
     "execution_count": 19,
     "metadata": {},
     "output_type": "execute_result"
    },
    {
     "data": {
      "image/png": "[encoded data removed]",
      "text/plain": [
       "<Figure size 432x288 with 1 Axes>"
      ]
     },
     "metadata": {
      "needs_background": "light"
     },
     "output_type": "display_data"
    }
   ],
   "source": [
    "sns.boxplot(df[\"left\"])"
   ]
  },
  {
   "cell_type": "markdown",
   "id": "e5c5b9f8",
   "metadata": {},
   "source": [
    "#### 6. promotion_last_5years"
   ]
  },
  {
   "cell_type": "code",
   "execution_count": 20,
   "id": "7d5a3882",
   "metadata": {},
   "outputs": [
    {
     "name": "stdout",
     "output_type": "stream",
     "text": [
      "<class 'pandas.core.series.Series'>\n",
      "RangeIndex: 14999 entries, 0 to 14998\n",
      "Series name: promotion_last_5years\n",
      "Non-Null Count  Dtype\n",
      "--------------  -----\n",
      "14999 non-null  int64\n",
      "dtypes: int64(1)\n",
      "memory usage: 117.3 KB\n"
     ]
    }
   ],
   "source": [
    "df[\"promotion_last_5years\"].info()"
   ]
  },
  {
   "cell_type": "code",
   "execution_count": 21,
   "id": "5ba3b05e",
   "metadata": {},
   "outputs": [
    {
     "data": {
      "text/plain": [
       "<AxesSubplot:xlabel='promotion_last_5years'>"
      ]
     },
     "execution_count": 21,
     "metadata": {},
     "output_type": "execute_result"
    },
    {
     "data": {
      "image/png": "[encoded data removed]",
      "text/plain": [
       "<Figure size 432x288 with 1 Axes>"
      ]
     },
     "metadata": {
      "needs_background": "light"
     },
     "output_type": "display_data"
    }
   ],
   "source": [
    "sns.boxplot(df[\"promotion_last_5years\"])"
   ]
  },
  {
   "cell_type": "markdown",
   "id": "0578ebd8",
   "metadata": {},
   "source": [
    "#### 7. satisfaction_level"
   ]
  },
  {
   "cell_type": "code",
   "execution_count": 22,
   "id": "16e13365",
   "metadata": {},
   "outputs": [
    {
     "name": "stdout",
     "output_type": "stream",
     "text": [
      "<class 'pandas.core.series.Series'>\n",
      "RangeIndex: 14999 entries, 0 to 14998\n",
      "Series name: satisfaction_level\n",
      "Non-Null Count  Dtype  \n",
      "--------------  -----  \n",
      "14972 non-null  float64\n",
      "dtypes: float64(1)\n",
      "memory usage: 117.3 KB\n"
     ]
    }
   ],
   "source": [
    "df[\"satisfaction_level\"].info()"
   ]
  },
  {
   "cell_type": "code",
   "execution_count": 23,
   "id": "201bb5d7",
   "metadata": {},
   "outputs": [
    {
     "data": {
      "text/plain": [
       "27"
      ]
     },
     "execution_count": 23,
     "metadata": {},
     "output_type": "execute_result"
    }
   ],
   "source": [
    "df[\"satisfaction_level\"].isna().sum()"
   ]
  },
  {
   "cell_type": "code",
   "execution_count": 24,
   "id": "32d7c1bb",
   "metadata": {},
   "outputs": [
    {
     "data": {
      "text/plain": [
       "<AxesSubplot:xlabel='satisfaction_level'>"
      ]
     },
     "execution_count": 24,
     "metadata": {},
     "output_type": "execute_result"
    },
    {
     "data": {
      "image/png": "[encoded data removed]",
      "text/plain": [
       "<Figure size 432x288 with 1 Axes>"
      ]
     },
     "metadata": {
      "needs_background": "light"
     },
     "output_type": "display_data"
    }
   ],
   "source": [
    "sns.boxplot(df[\"satisfaction_level\"])"
   ]
  },
  {
   "cell_type": "code",
   "execution_count": 25,
   "id": "72286e2b",
   "metadata": {},
   "outputs": [
    {
     "data": {
      "text/plain": [
       "<AxesSubplot:xlabel='satisfaction_level', ylabel='Density'>"
      ]
     },
     "execution_count": 25,
     "metadata": {},
     "output_type": "execute_result"
    },
    {
     "data": {
      "image/png": "[encoded data removed]",
      "text/plain": [
       "<Figure size 432x288 with 1 Axes>"
      ]
     },
     "metadata": {
      "needs_background": "light"
     },
     "output_type": "display_data"
    }
   ],
   "source": [
    "sns.kdeplot(df[\"satisfaction_level\"])"
   ]
  },
  {
   "cell_type": "markdown",
   "id": "7af2ad7d",
   "metadata": {},
   "source": [
    "There is some null values present in this feature we have to handle it in feature engineering."
   ]
  },
  {
   "cell_type": "markdown",
   "id": "d55e1678",
   "metadata": {},
   "source": [
    "#### 8. last_evaluation"
   ]
  },
  {
   "cell_type": "code",
   "execution_count": 26,
   "id": "e134399d",
   "metadata": {},
   "outputs": [
    {
     "name": "stdout",
     "output_type": "stream",
     "text": [
      "<class 'pandas.core.series.Series'>\n",
      "RangeIndex: 14999 entries, 0 to 14998\n",
      "Series name: last_evaluation\n",
      "Non-Null Count  Dtype  \n",
      "--------------  -----  \n",
      "14972 non-null  float64\n",
      "dtypes: float64(1)\n",
      "memory usage: 117.3 KB\n"
     ]
    }
   ],
   "source": [
    "df[\"last_evaluation\"].info()"
   ]
  },
  {
   "cell_type": "code",
   "execution_count": 27,
   "id": "1f6ff7a8",
   "metadata": {},
   "outputs": [
    {
     "data": {
      "text/plain": [
       "27"
      ]
     },
     "execution_count": 27,
     "metadata": {},
     "output_type": "execute_result"
    }
   ],
   "source": [
    "df[\"last_evaluation\"].isna().sum()"
   ]
  },
  {
   "cell_type": "code",
   "execution_count": 28,
   "id": "27868e29",
   "metadata": {},
   "outputs": [
    {
     "data": {
      "text/plain": [
       "<AxesSubplot:xlabel='last_evaluation'>"
      ]
     },
     "execution_count": 28,
     "metadata": {},
     "output_type": "execute_result"
    },
    {
     "data": {
      "image/png": "[encoded data removed]",
      "text/plain": [
       "<Figure size 432x288 with 1 Axes>"
      ]
     },
     "metadata": {
      "needs_background": "light"
     },
     "output_type": "display_data"
    }
   ],
   "source": [
    "sns.boxplot(df[\"last_evaluation\"])"
   ]
  },
  {
   "cell_type": "markdown",
   "id": "f7052e6a",
   "metadata": {},
   "source": [
    "There is some null values present in this feature, so we have to handle it in feature engineering."
   ]
  },
  {
   "cell_type": "markdown",
   "id": "348f97e6",
   "metadata": {},
   "source": [
    "#### 9. department"
   ]
  },
  {
   "cell_type": "code",
   "execution_count": 29,
   "id": "0938b128",
   "metadata": {},
   "outputs": [
    {
     "data": {
      "text/plain": [
       "array(['sales', 'accounting', 'hr', 'technical', 'support', 'management',\n",
       "       'IT', 'product_mng', 'marketing', 'RandD'], dtype=object)"
      ]
     },
     "execution_count": 29,
     "metadata": {},
     "output_type": "execute_result"
    }
   ],
   "source": [
    "df[\"department\"].unique()"
   ]
  },
  {
   "cell_type": "code",
   "execution_count": 30,
   "id": "bcbd0bc9",
   "metadata": {},
   "outputs": [
    {
     "data": {
      "text/plain": [
       "0"
      ]
     },
     "execution_count": 30,
     "metadata": {},
     "output_type": "execute_result"
    }
   ],
   "source": [
    "df[\"department\"].isna().sum()"
   ]
  },
  {
   "cell_type": "markdown",
   "id": "1e9ff3c2",
   "metadata": {},
   "source": [
    "There is not null values in this feature.\n",
    "\n",
    "This is categorical feature , so we need to do encoding for this feature."
   ]
  },
  {
   "cell_type": "markdown",
   "id": "e013aee1",
   "metadata": {},
   "source": [
    "#### 10. salary"
   ]
  },
  {
   "cell_type": "code",
   "execution_count": 31,
   "id": "3f22f62f",
   "metadata": {},
   "outputs": [
    {
     "data": {
      "text/plain": [
       "array(['low', 'medium', 'high'], dtype=object)"
      ]
     },
     "execution_count": 31,
     "metadata": {},
     "output_type": "execute_result"
    }
   ],
   "source": [
    "df[\"salary\"].unique()"
   ]
  },
  {
   "cell_type": "code",
   "execution_count": 32,
   "id": "634f276d",
   "metadata": {},
   "outputs": [
    {
     "data": {
      "text/plain": [
       "0"
      ]
     },
     "execution_count": 32,
     "metadata": {},
     "output_type": "execute_result"
    }
   ],
   "source": [
    "df[\"salary\"].isna().sum()"
   ]
  },
  {
   "cell_type": "markdown",
   "id": "ded23be3",
   "metadata": {},
   "source": [
    "There is no null values present in this feature.\n",
    "\n",
    "This is categorical feature we need to do encoding for this feature."
   ]
  },
  {
   "cell_type": "code",
   "execution_count": 33,
   "id": "70e52fa8",
   "metadata": {},
   "outputs": [
    {
     "data": {
      "text/plain": [
       "<AxesSubplot:>"
      ]
     },
     "execution_count": 33,
     "metadata": {},
     "output_type": "execute_result"
    },
    {
     "data": {
      "image/png": "[encoded data removed]",
      "text/plain": [
       "<Figure size 432x288 with 2 Axes>"
      ]
     },
     "metadata": {
      "needs_background": "light"
     },
     "output_type": "display_data"
    }
   ],
   "source": [
    "sns.heatmap(df.corr())"
   ]
  },
  {
   "cell_type": "markdown",
   "id": "8c6933a8",
   "metadata": {},
   "source": [
    "## Feature Engineering"
   ]
  },
  {
   "cell_type": "code",
   "execution_count": 34,
   "id": "496441e7",
   "metadata": {},
   "outputs": [
    {
     "data": {
      "text/html": [
       "<div>\n",
       "<style scoped>\n",
       "    .dataframe tbody tr th:only-of-type {\n",
       "        vertical-align: middle;\n",
       "    }\n",
       "\n",
       "    .dataframe tbody tr th {\n",
       "        vertical-align: top;\n",
       "    }\n",
       "\n",
       "    .dataframe thead th {\n",
       "        text-align: right;\n",
       "    }\n",
       "</style>\n",
       "<table border=\"1\" class=\"dataframe\">\n",
       "  <thead>\n",
       "    <tr style=\"text-align: right;\">\n",
       "      <th></th>\n",
       "      <th>employee_id</th>\n",
       "      <th>number_project</th>\n",
       "      <th>average_montly_hours</th>\n",
       "      <th>time_spend_company</th>\n",
       "      <th>Work_accident</th>\n",
       "      <th>left</th>\n",
       "      <th>promotion_last_5years</th>\n",
       "      <th>department</th>\n",
       "      <th>salary</th>\n",
       "      <th>satisfaction_level</th>\n",
       "      <th>last_evaluation</th>\n",
       "    </tr>\n",
       "  </thead>\n",
       "  <tbody>\n",
       "    <tr>\n",
       "      <th>10988</th>\n",
       "      <td>64516</td>\n",
       "      <td>4</td>\n",
       "      <td>266</td>\n",
       "      <td>4</td>\n",
       "      <td>0</td>\n",
       "      <td>0</td>\n",
       "      <td>0</td>\n",
       "      <td>RandD</td>\n",
       "      <td>low</td>\n",
       "      <td>0.32</td>\n",
       "      <td>0.86</td>\n",
       "    </tr>\n",
       "  </tbody>\n",
       "</table>\n",
       "</div>"
      ],
      "text/plain": [
       "       employee_id  number_project  average_montly_hours  time_spend_company  \\\n",
       "10988        64516               4                   266                   4   \n",
       "\n",
       "       Work_accident  left  promotion_last_5years department salary  \\\n",
       "10988              0     0                      0      RandD    low   \n",
       "\n",
       "       satisfaction_level  last_evaluation  \n",
       "10988                0.32             0.86  "
      ]
     },
     "execution_count": 34,
     "metadata": {},
     "output_type": "execute_result"
    }
   ],
   "source": [
    "df.sample()"
   ]
  },
  {
   "cell_type": "markdown",
   "id": "c7b25120",
   "metadata": {},
   "source": [
    "No need of employee_id feature, so we have to drop it."
   ]
  },
  {
   "cell_type": "code",
   "execution_count": 35,
   "id": "2bec4b32",
   "metadata": {},
   "outputs": [
    {
     "data": {
      "text/html": [
       "<div>\n",
       "<style scoped>\n",
       "    .dataframe tbody tr th:only-of-type {\n",
       "        vertical-align: middle;\n",
       "    }\n",
       "\n",
       "    .dataframe tbody tr th {\n",
       "        vertical-align: top;\n",
       "    }\n",
       "\n",
       "    .dataframe thead th {\n",
       "        text-align: right;\n",
       "    }\n",
       "</style>\n",
       "<table border=\"1\" class=\"dataframe\">\n",
       "  <thead>\n",
       "    <tr style=\"text-align: right;\">\n",
       "      <th></th>\n",
       "      <th>number_project</th>\n",
       "      <th>average_montly_hours</th>\n",
       "      <th>time_spend_company</th>\n",
       "      <th>Work_accident</th>\n",
       "      <th>left</th>\n",
       "      <th>promotion_last_5years</th>\n",
       "      <th>department</th>\n",
       "      <th>salary</th>\n",
       "      <th>satisfaction_level</th>\n",
       "      <th>last_evaluation</th>\n",
       "    </tr>\n",
       "  </thead>\n",
       "  <tbody>\n",
       "    <tr>\n",
       "      <th>0</th>\n",
       "      <td>2</td>\n",
       "      <td>157</td>\n",
       "      <td>3</td>\n",
       "      <td>0</td>\n",
       "      <td>1</td>\n",
       "      <td>0</td>\n",
       "      <td>sales</td>\n",
       "      <td>low</td>\n",
       "      <td>0.38</td>\n",
       "      <td>0.53</td>\n",
       "    </tr>\n",
       "    <tr>\n",
       "      <th>1</th>\n",
       "      <td>5</td>\n",
       "      <td>262</td>\n",
       "      <td>6</td>\n",
       "      <td>0</td>\n",
       "      <td>1</td>\n",
       "      <td>0</td>\n",
       "      <td>sales</td>\n",
       "      <td>medium</td>\n",
       "      <td>0.80</td>\n",
       "      <td>0.86</td>\n",
       "    </tr>\n",
       "    <tr>\n",
       "      <th>2</th>\n",
       "      <td>7</td>\n",
       "      <td>272</td>\n",
       "      <td>4</td>\n",
       "      <td>0</td>\n",
       "      <td>1</td>\n",
       "      <td>0</td>\n",
       "      <td>sales</td>\n",
       "      <td>medium</td>\n",
       "      <td>0.11</td>\n",
       "      <td>0.88</td>\n",
       "    </tr>\n",
       "    <tr>\n",
       "      <th>3</th>\n",
       "      <td>5</td>\n",
       "      <td>223</td>\n",
       "      <td>5</td>\n",
       "      <td>0</td>\n",
       "      <td>1</td>\n",
       "      <td>0</td>\n",
       "      <td>sales</td>\n",
       "      <td>low</td>\n",
       "      <td>0.72</td>\n",
       "      <td>0.87</td>\n",
       "    </tr>\n",
       "    <tr>\n",
       "      <th>4</th>\n",
       "      <td>2</td>\n",
       "      <td>159</td>\n",
       "      <td>3</td>\n",
       "      <td>0</td>\n",
       "      <td>1</td>\n",
       "      <td>0</td>\n",
       "      <td>sales</td>\n",
       "      <td>low</td>\n",
       "      <td>0.37</td>\n",
       "      <td>0.52</td>\n",
       "    </tr>\n",
       "    <tr>\n",
       "      <th>...</th>\n",
       "      <td>...</td>\n",
       "      <td>...</td>\n",
       "      <td>...</td>\n",
       "      <td>...</td>\n",
       "      <td>...</td>\n",
       "      <td>...</td>\n",
       "      <td>...</td>\n",
       "      <td>...</td>\n",
       "      <td>...</td>\n",
       "      <td>...</td>\n",
       "    </tr>\n",
       "    <tr>\n",
       "      <th>14994</th>\n",
       "      <td>2</td>\n",
       "      <td>151</td>\n",
       "      <td>3</td>\n",
       "      <td>0</td>\n",
       "      <td>1</td>\n",
       "      <td>0</td>\n",
       "      <td>support</td>\n",
       "      <td>low</td>\n",
       "      <td>0.40</td>\n",
       "      <td>0.57</td>\n",
       "    </tr>\n",
       "    <tr>\n",
       "      <th>14995</th>\n",
       "      <td>2</td>\n",
       "      <td>160</td>\n",
       "      <td>3</td>\n",
       "      <td>0</td>\n",
       "      <td>1</td>\n",
       "      <td>0</td>\n",
       "      <td>support</td>\n",
       "      <td>low</td>\n",
       "      <td>0.37</td>\n",
       "      <td>0.48</td>\n",
       "    </tr>\n",
       "    <tr>\n",
       "      <th>14996</th>\n",
       "      <td>2</td>\n",
       "      <td>143</td>\n",
       "      <td>3</td>\n",
       "      <td>0</td>\n",
       "      <td>1</td>\n",
       "      <td>0</td>\n",
       "      <td>support</td>\n",
       "      <td>low</td>\n",
       "      <td>0.37</td>\n",
       "      <td>0.53</td>\n",
       "    </tr>\n",
       "    <tr>\n",
       "      <th>14997</th>\n",
       "      <td>6</td>\n",
       "      <td>280</td>\n",
       "      <td>4</td>\n",
       "      <td>0</td>\n",
       "      <td>1</td>\n",
       "      <td>0</td>\n",
       "      <td>support</td>\n",
       "      <td>low</td>\n",
       "      <td>0.11</td>\n",
       "      <td>0.96</td>\n",
       "    </tr>\n",
       "    <tr>\n",
       "      <th>14998</th>\n",
       "      <td>2</td>\n",
       "      <td>158</td>\n",
       "      <td>3</td>\n",
       "      <td>0</td>\n",
       "      <td>1</td>\n",
       "      <td>0</td>\n",
       "      <td>support</td>\n",
       "      <td>low</td>\n",
       "      <td>0.37</td>\n",
       "      <td>0.52</td>\n",
       "    </tr>\n",
       "  </tbody>\n",
       "</table>\n",
       "<p>14999 rows × 10 columns</p>\n",
       "</div>"
      ],
      "text/plain": [
       "       number_project  average_montly_hours  time_spend_company  \\\n",
       "0                   2                   157                   3   \n",
       "1                   5                   262                   6   \n",
       "2                   7                   272                   4   \n",
       "3                   5                   223                   5   \n",
       "4                   2                   159                   3   \n",
       "...               ...                   ...                 ...   \n",
       "14994               2                   151                   3   \n",
       "14995               2                   160                   3   \n",
       "14996               2                   143                   3   \n",
       "14997               6                   280                   4   \n",
       "14998               2                   158                   3   \n",
       "\n",
       "       Work_accident  left  promotion_last_5years department  salary  \\\n",
       "0                  0     1                      0      sales     low   \n",
       "1                  0     1                      0      sales  medium   \n",
       "2                  0     1                      0      sales  medium   \n",
       "3                  0     1                      0      sales     low   \n",
       "4                  0     1                      0      sales     low   \n",
       "...              ...   ...                    ...        ...     ...   \n",
       "14994              0     1                      0    support     low   \n",
       "14995              0     1                      0    support     low   \n",
       "14996              0     1                      0    support     low   \n",
       "14997              0     1                      0    support     low   \n",
       "14998              0     1                      0    support     low   \n",
       "\n",
       "       satisfaction_level  last_evaluation  \n",
       "0                    0.38             0.53  \n",
       "1                    0.80             0.86  \n",
       "2                    0.11             0.88  \n",
       "3                    0.72             0.87  \n",
       "4                    0.37             0.52  \n",
       "...                   ...              ...  \n",
       "14994                0.40             0.57  \n",
       "14995                0.37             0.48  \n",
       "14996                0.37             0.53  \n",
       "14997                0.11             0.96  \n",
       "14998                0.37             0.52  \n",
       "\n",
       "[14999 rows x 10 columns]"
      ]
     },
     "execution_count": 35,
     "metadata": {},
     "output_type": "execute_result"
    }
   ],
   "source": [
    "df.drop(\"employee_id\",axis=1)"
   ]
  },
  {
   "cell_type": "markdown",
   "id": "cf288893",
   "metadata": {},
   "source": [
    "### time_spend_company"
   ]
  },
  {
   "cell_type": "code",
   "execution_count": 36,
   "id": "bd268484",
   "metadata": {},
   "outputs": [
    {
     "data": {
      "text/plain": [
       "0"
      ]
     },
     "execution_count": 36,
     "metadata": {},
     "output_type": "execute_result"
    }
   ],
   "source": [
    "df[\"time_spend_company\"].isna().sum()"
   ]
  },
  {
   "cell_type": "code",
   "execution_count": 37,
   "id": "6d55c04c",
   "metadata": {},
   "outputs": [
    {
     "data": {
      "text/plain": [
       "<AxesSubplot:xlabel='time_spend_company'>"
      ]
     },
     "execution_count": 37,
     "metadata": {},
     "output_type": "execute_result"
    },
    {
     "data": {
      "image/png": "[encoded data removed]",
      "text/plain": [
       "<Figure size 432x288 with 1 Axes>"
      ]
     },
     "metadata": {
      "needs_background": "light"
     },
     "output_type": "display_data"
    }
   ],
   "source": [
    "sns.boxplot(df[\"time_spend_company\"])"
   ]
  },
  {
   "cell_type": "markdown",
   "id": "8b149655",
   "metadata": {},
   "source": [
    "We need to find out outliers"
   ]
  },
  {
   "cell_type": "code",
   "execution_count": 38,
   "id": "aae3a301",
   "metadata": {},
   "outputs": [],
   "source": [
    "# Using IQR technique\n",
    "\n",
    "q1 = df[\"time_spend_company\"].quantile(0.25)\n",
    "q3 = df[\"time_spend_company\"].quantile(0.75)\n",
    "\n",
    "IQR = q3 - q1\n",
    "\n",
    "upper_tail = q3 + 1.5 * IQR\n",
    "lower_tail = q1 - 1.5 * IQR"
   ]
  },
  {
   "cell_type": "code",
   "execution_count": 39,
   "id": "ab7c1e30",
   "metadata": {},
   "outputs": [
    {
     "data": {
      "text/plain": [
       "(1282,)"
      ]
     },
     "execution_count": 39,
     "metadata": {},
     "output_type": "execute_result"
    }
   ],
   "source": [
    "df[\"time_spend_company\"].loc[(df[\"time_spend_company\"] > upper_tail) | (df[\"time_spend_company\"] < lower_tail)].shape"
   ]
  },
  {
   "cell_type": "code",
   "execution_count": 42,
   "id": "40b3d35b",
   "metadata": {},
   "outputs": [],
   "source": [
    "mean_time_spend = df[\"time_spend_company\"].loc[(df[\"time_spend_company\"] <= upper_tail) & (df[\"time_spend_company\"] >= lower_tail)].median()"
   ]
  },
  {
   "cell_type": "code",
   "execution_count": 43,
   "id": "112406d1",
   "metadata": {},
   "outputs": [
    {
     "data": {
      "text/plain": [
       "3.0"
      ]
     },
     "execution_count": 43,
     "metadata": {},
     "output_type": "execute_result"
    }
   ],
   "source": [
    "mean_time_spend"
   ]
  },
  {
   "cell_type": "code",
   "execution_count": 44,
   "id": "48f28be4",
   "metadata": {},
   "outputs": [],
   "source": [
    "df[\"time_spend_company\"].loc[(df[\"time_spend_company\"] > upper_tail) | (df[\"time_spend_company\"] < lower_tail)] = mean_time_spend"
   ]
  },
  {
   "cell_type": "code",
   "execution_count": 45,
   "id": "2f493338",
   "metadata": {},
   "outputs": [
    {
     "data": {
      "text/plain": [
       "<AxesSubplot:xlabel='time_spend_company'>"
      ]
     },
     "execution_count": 45,
     "metadata": {},
     "output_type": "execute_result"
    },
    {
     "data": {
      "image/png": "[encoded data removed]",
      "text/plain": [
       "<Figure size 432x288 with 1 Axes>"
      ]
     },
     "metadata": {
      "needs_background": "light"
     },
     "output_type": "display_data"
    }
   ],
   "source": [
    "sns.boxplot(df[\"time_spend_company\"])"
   ]
  },
  {
   "cell_type": "markdown",
   "id": "f99cf1b3",
   "metadata": {},
   "source": [
    "### satisfaction_level"
   ]
  },
  {
   "cell_type": "code",
   "execution_count": 46,
   "id": "c9fde210",
   "metadata": {},
   "outputs": [
    {
     "data": {
      "text/plain": [
       "array([0.38, 0.8 , 0.11, 0.72, 0.37, 0.41, 0.1 , 0.92, 0.89, 0.42, 0.45,\n",
       "       0.84, 0.36, 0.78,  nan, 0.09, 0.46, 0.4 , 0.82, 0.87, 0.57, 0.43,\n",
       "       0.13, 0.44, 0.85, 0.81, 0.9 , 0.76, 0.74, 0.39, 0.79, 0.17, 0.24,\n",
       "       0.91, 0.71, 0.86, 0.75, 0.7 , 0.31, 0.73, 0.83, 0.32, 0.27, 0.77,\n",
       "       0.88, 0.48, 0.19, 0.6 , 0.12, 0.61, 0.33, 0.56, 0.47, 0.28, 0.53,\n",
       "       0.59, 0.66, 0.25, 0.34, 0.58, 0.51, 0.35, 0.64, 0.5 , 0.23, 0.15,\n",
       "       0.54, 0.14, 0.49, 0.3 , 0.63, 0.21, 0.62, 0.29, 0.2 , 0.55, 0.16,\n",
       "       0.65, 0.68, 0.67, 0.22, 0.26, 0.99, 0.98, 1.  , 0.52, 0.93, 0.97,\n",
       "       0.69, 0.94, 0.96, 0.18, 0.95])"
      ]
     },
     "execution_count": 46,
     "metadata": {},
     "output_type": "execute_result"
    }
   ],
   "source": [
    "df[\"satisfaction_level\"].unique()"
   ]
  },
  {
   "cell_type": "code",
   "execution_count": 47,
   "id": "48afeb99",
   "metadata": {},
   "outputs": [
    {
     "data": {
      "text/plain": [
       "27"
      ]
     },
     "execution_count": 47,
     "metadata": {},
     "output_type": "execute_result"
    }
   ],
   "source": [
    "df[\"satisfaction_level\"].isna().sum()"
   ]
  },
  {
   "cell_type": "code",
   "execution_count": 48,
   "id": "6708ed21",
   "metadata": {},
   "outputs": [],
   "source": [
    "df[\"satisfaction_level\"].fillna(df[\"satisfaction_level\"].mean(), inplace=True)"
   ]
  },
  {
   "cell_type": "code",
   "execution_count": 49,
   "id": "300d0669",
   "metadata": {},
   "outputs": [
    {
     "data": {
      "text/plain": [
       "0"
      ]
     },
     "execution_count": 49,
     "metadata": {},
     "output_type": "execute_result"
    }
   ],
   "source": [
    "df[\"satisfaction_level\"].isna().sum()"
   ]
  },
  {
   "cell_type": "markdown",
   "id": "38f857d3",
   "metadata": {},
   "source": [
    "### last_evaluation"
   ]
  },
  {
   "cell_type": "code",
   "execution_count": 50,
   "id": "356c56d6",
   "metadata": {},
   "outputs": [
    {
     "data": {
      "text/plain": [
       "27"
      ]
     },
     "execution_count": 50,
     "metadata": {},
     "output_type": "execute_result"
    }
   ],
   "source": [
    "df[\"last_evaluation\"].isna().sum()"
   ]
  },
  {
   "cell_type": "code",
   "execution_count": 51,
   "id": "0b2f136b",
   "metadata": {},
   "outputs": [],
   "source": [
    "df[\"last_evaluation\"].fillna(df[\"last_evaluation\"].mean(),inplace=True)"
   ]
  },
  {
   "cell_type": "code",
   "execution_count": 52,
   "id": "38a09a3a",
   "metadata": {},
   "outputs": [
    {
     "data": {
      "text/plain": [
       "0"
      ]
     },
     "execution_count": 52,
     "metadata": {},
     "output_type": "execute_result"
    }
   ],
   "source": [
    "df[\"last_evaluation\"].isna().sum()"
   ]
  },
  {
   "cell_type": "markdown",
   "id": "04ba59fc",
   "metadata": {},
   "source": [
    "### department"
   ]
  },
  {
   "cell_type": "code",
   "execution_count": 53,
   "id": "45164bae",
   "metadata": {},
   "outputs": [
    {
     "data": {
      "text/plain": [
       "array(['sales', 'accounting', 'hr', 'technical', 'support', 'management',\n",
       "       'IT', 'product_mng', 'marketing', 'RandD'], dtype=object)"
      ]
     },
     "execution_count": 53,
     "metadata": {},
     "output_type": "execute_result"
    }
   ],
   "source": [
    "df[\"department\"].unique()"
   ]
  },
  {
   "cell_type": "code",
   "execution_count": 54,
   "id": "b6321d96",
   "metadata": {},
   "outputs": [],
   "source": [
    "df1 = df.copy()"
   ]
  },
  {
   "cell_type": "code",
   "execution_count": 55,
   "id": "54919730",
   "metadata": {},
   "outputs": [
    {
     "data": {
      "text/html": [
       "<div>\n",
       "<style scoped>\n",
       "    .dataframe tbody tr th:only-of-type {\n",
       "        vertical-align: middle;\n",
       "    }\n",
       "\n",
       "    .dataframe tbody tr th {\n",
       "        vertical-align: top;\n",
       "    }\n",
       "\n",
       "    .dataframe thead th {\n",
       "        text-align: right;\n",
       "    }\n",
       "</style>\n",
       "<table border=\"1\" class=\"dataframe\">\n",
       "  <thead>\n",
       "    <tr style=\"text-align: right;\">\n",
       "      <th></th>\n",
       "      <th>employee_id</th>\n",
       "      <th>number_project</th>\n",
       "      <th>average_montly_hours</th>\n",
       "      <th>time_spend_company</th>\n",
       "      <th>Work_accident</th>\n",
       "      <th>left</th>\n",
       "      <th>promotion_last_5years</th>\n",
       "      <th>department</th>\n",
       "      <th>salary</th>\n",
       "      <th>satisfaction_level</th>\n",
       "      <th>last_evaluation</th>\n",
       "    </tr>\n",
       "  </thead>\n",
       "  <tbody>\n",
       "    <tr>\n",
       "      <th>0</th>\n",
       "      <td>1003</td>\n",
       "      <td>2</td>\n",
       "      <td>157</td>\n",
       "      <td>3</td>\n",
       "      <td>0</td>\n",
       "      <td>1</td>\n",
       "      <td>0</td>\n",
       "      <td>sales</td>\n",
       "      <td>low</td>\n",
       "      <td>0.38</td>\n",
       "      <td>0.53</td>\n",
       "    </tr>\n",
       "    <tr>\n",
       "      <th>1</th>\n",
       "      <td>1005</td>\n",
       "      <td>5</td>\n",
       "      <td>262</td>\n",
       "      <td>3</td>\n",
       "      <td>0</td>\n",
       "      <td>1</td>\n",
       "      <td>0</td>\n",
       "      <td>sales</td>\n",
       "      <td>medium</td>\n",
       "      <td>0.80</td>\n",
       "      <td>0.86</td>\n",
       "    </tr>\n",
       "    <tr>\n",
       "      <th>2</th>\n",
       "      <td>1486</td>\n",
       "      <td>7</td>\n",
       "      <td>272</td>\n",
       "      <td>4</td>\n",
       "      <td>0</td>\n",
       "      <td>1</td>\n",
       "      <td>0</td>\n",
       "      <td>sales</td>\n",
       "      <td>medium</td>\n",
       "      <td>0.11</td>\n",
       "      <td>0.88</td>\n",
       "    </tr>\n",
       "    <tr>\n",
       "      <th>3</th>\n",
       "      <td>1038</td>\n",
       "      <td>5</td>\n",
       "      <td>223</td>\n",
       "      <td>5</td>\n",
       "      <td>0</td>\n",
       "      <td>1</td>\n",
       "      <td>0</td>\n",
       "      <td>sales</td>\n",
       "      <td>low</td>\n",
       "      <td>0.72</td>\n",
       "      <td>0.87</td>\n",
       "    </tr>\n",
       "    <tr>\n",
       "      <th>4</th>\n",
       "      <td>1057</td>\n",
       "      <td>2</td>\n",
       "      <td>159</td>\n",
       "      <td>3</td>\n",
       "      <td>0</td>\n",
       "      <td>1</td>\n",
       "      <td>0</td>\n",
       "      <td>sales</td>\n",
       "      <td>low</td>\n",
       "      <td>0.37</td>\n",
       "      <td>0.52</td>\n",
       "    </tr>\n",
       "  </tbody>\n",
       "</table>\n",
       "</div>"
      ],
      "text/plain": [
       "   employee_id  number_project  average_montly_hours  time_spend_company  \\\n",
       "0         1003               2                   157                   3   \n",
       "1         1005               5                   262                   3   \n",
       "2         1486               7                   272                   4   \n",
       "3         1038               5                   223                   5   \n",
       "4         1057               2                   159                   3   \n",
       "\n",
       "   Work_accident  left  promotion_last_5years department  salary  \\\n",
       "0              0     1                      0      sales     low   \n",
       "1              0     1                      0      sales  medium   \n",
       "2              0     1                      0      sales  medium   \n",
       "3              0     1                      0      sales     low   \n",
       "4              0     1                      0      sales     low   \n",
       "\n",
       "   satisfaction_level  last_evaluation  \n",
       "0                0.38             0.53  \n",
       "1                0.80             0.86  \n",
       "2                0.11             0.88  \n",
       "3                0.72             0.87  \n",
       "4                0.37             0.52  "
      ]
     },
     "execution_count": 55,
     "metadata": {},
     "output_type": "execute_result"
    }
   ],
   "source": [
    "df.head()"
   ]
  },
  {
   "cell_type": "code",
   "execution_count": 56,
   "id": "c868fc76",
   "metadata": {},
   "outputs": [],
   "source": [
    "one_hot_enc = OneHotEncoder()"
   ]
  },
  {
   "cell_type": "code",
   "execution_count": 57,
   "id": "8fbcdae4",
   "metadata": {},
   "outputs": [],
   "source": [
    "arr = one_hot_enc.fit_transform(df1[[\"department\"]]).toarray()\n",
    "df_department = pd.DataFrame(arr,columns = one_hot_enc.categories_[0])\n",
    "df1 = pd.concat([df1,df_department],axis=1)"
   ]
  },
  {
   "cell_type": "code",
   "execution_count": 58,
   "id": "9e6673ff",
   "metadata": {},
   "outputs": [
    {
     "data": {
      "text/html": [
       "<div>\n",
       "<style scoped>\n",
       "    .dataframe tbody tr th:only-of-type {\n",
       "        vertical-align: middle;\n",
       "    }\n",
       "\n",
       "    .dataframe tbody tr th {\n",
       "        vertical-align: top;\n",
       "    }\n",
       "\n",
       "    .dataframe thead th {\n",
       "        text-align: right;\n",
       "    }\n",
       "</style>\n",
       "<table border=\"1\" class=\"dataframe\">\n",
       "  <thead>\n",
       "    <tr style=\"text-align: right;\">\n",
       "      <th></th>\n",
       "      <th>employee_id</th>\n",
       "      <th>number_project</th>\n",
       "      <th>average_montly_hours</th>\n",
       "      <th>time_spend_company</th>\n",
       "      <th>Work_accident</th>\n",
       "      <th>left</th>\n",
       "      <th>promotion_last_5years</th>\n",
       "      <th>department</th>\n",
       "      <th>salary</th>\n",
       "      <th>satisfaction_level</th>\n",
       "      <th>...</th>\n",
       "      <th>IT</th>\n",
       "      <th>RandD</th>\n",
       "      <th>accounting</th>\n",
       "      <th>hr</th>\n",
       "      <th>management</th>\n",
       "      <th>marketing</th>\n",
       "      <th>product_mng</th>\n",
       "      <th>sales</th>\n",
       "      <th>support</th>\n",
       "      <th>technical</th>\n",
       "    </tr>\n",
       "  </thead>\n",
       "  <tbody>\n",
       "    <tr>\n",
       "      <th>0</th>\n",
       "      <td>1003</td>\n",
       "      <td>2</td>\n",
       "      <td>157</td>\n",
       "      <td>3</td>\n",
       "      <td>0</td>\n",
       "      <td>1</td>\n",
       "      <td>0</td>\n",
       "      <td>sales</td>\n",
       "      <td>low</td>\n",
       "      <td>0.38</td>\n",
       "      <td>...</td>\n",
       "      <td>0.0</td>\n",
       "      <td>0.0</td>\n",
       "      <td>0.0</td>\n",
       "      <td>0.0</td>\n",
       "      <td>0.0</td>\n",
       "      <td>0.0</td>\n",
       "      <td>0.0</td>\n",
       "      <td>1.0</td>\n",
       "      <td>0.0</td>\n",
       "      <td>0.0</td>\n",
       "    </tr>\n",
       "    <tr>\n",
       "      <th>1</th>\n",
       "      <td>1005</td>\n",
       "      <td>5</td>\n",
       "      <td>262</td>\n",
       "      <td>3</td>\n",
       "      <td>0</td>\n",
       "      <td>1</td>\n",
       "      <td>0</td>\n",
       "      <td>sales</td>\n",
       "      <td>medium</td>\n",
       "      <td>0.80</td>\n",
       "      <td>...</td>\n",
       "      <td>0.0</td>\n",
       "      <td>0.0</td>\n",
       "      <td>0.0</td>\n",
       "      <td>0.0</td>\n",
       "      <td>0.0</td>\n",
       "      <td>0.0</td>\n",
       "      <td>0.0</td>\n",
       "      <td>1.0</td>\n",
       "      <td>0.0</td>\n",
       "      <td>0.0</td>\n",
       "    </tr>\n",
       "    <tr>\n",
       "      <th>2</th>\n",
       "      <td>1486</td>\n",
       "      <td>7</td>\n",
       "      <td>272</td>\n",
       "      <td>4</td>\n",
       "      <td>0</td>\n",
       "      <td>1</td>\n",
       "      <td>0</td>\n",
       "      <td>sales</td>\n",
       "      <td>medium</td>\n",
       "      <td>0.11</td>\n",
       "      <td>...</td>\n",
       "      <td>0.0</td>\n",
       "      <td>0.0</td>\n",
       "      <td>0.0</td>\n",
       "      <td>0.0</td>\n",
       "      <td>0.0</td>\n",
       "      <td>0.0</td>\n",
       "      <td>0.0</td>\n",
       "      <td>1.0</td>\n",
       "      <td>0.0</td>\n",
       "      <td>0.0</td>\n",
       "    </tr>\n",
       "    <tr>\n",
       "      <th>3</th>\n",
       "      <td>1038</td>\n",
       "      <td>5</td>\n",
       "      <td>223</td>\n",
       "      <td>5</td>\n",
       "      <td>0</td>\n",
       "      <td>1</td>\n",
       "      <td>0</td>\n",
       "      <td>sales</td>\n",
       "      <td>low</td>\n",
       "      <td>0.72</td>\n",
       "      <td>...</td>\n",
       "      <td>0.0</td>\n",
       "      <td>0.0</td>\n",
       "      <td>0.0</td>\n",
       "      <td>0.0</td>\n",
       "      <td>0.0</td>\n",
       "      <td>0.0</td>\n",
       "      <td>0.0</td>\n",
       "      <td>1.0</td>\n",
       "      <td>0.0</td>\n",
       "      <td>0.0</td>\n",
       "    </tr>\n",
       "    <tr>\n",
       "      <th>4</th>\n",
       "      <td>1057</td>\n",
       "      <td>2</td>\n",
       "      <td>159</td>\n",
       "      <td>3</td>\n",
       "      <td>0</td>\n",
       "      <td>1</td>\n",
       "      <td>0</td>\n",
       "      <td>sales</td>\n",
       "      <td>low</td>\n",
       "      <td>0.37</td>\n",
       "      <td>...</td>\n",
       "      <td>0.0</td>\n",
       "      <td>0.0</td>\n",
       "      <td>0.0</td>\n",
       "      <td>0.0</td>\n",
       "      <td>0.0</td>\n",
       "      <td>0.0</td>\n",
       "      <td>0.0</td>\n",
       "      <td>1.0</td>\n",
       "      <td>0.0</td>\n",
       "      <td>0.0</td>\n",
       "    </tr>\n",
       "  </tbody>\n",
       "</table>\n",
       "<p>5 rows × 21 columns</p>\n",
       "</div>"
      ],
      "text/plain": [
       "   employee_id  number_project  average_montly_hours  time_spend_company  \\\n",
       "0         1003               2                   157                   3   \n",
       "1         1005               5                   262                   3   \n",
       "2         1486               7                   272                   4   \n",
       "3         1038               5                   223                   5   \n",
       "4         1057               2                   159                   3   \n",
       "\n",
       "   Work_accident  left  promotion_last_5years department  salary  \\\n",
       "0              0     1                      0      sales     low   \n",
       "1              0     1                      0      sales  medium   \n",
       "2              0     1                      0      sales  medium   \n",
       "3              0     1                      0      sales     low   \n",
       "4              0     1                      0      sales     low   \n",
       "\n",
       "   satisfaction_level  ...   IT  RandD  accounting   hr  management  \\\n",
       "0                0.38  ...  0.0    0.0         0.0  0.0         0.0   \n",
       "1                0.80  ...  0.0    0.0         0.0  0.0         0.0   \n",
       "2                0.11  ...  0.0    0.0         0.0  0.0         0.0   \n",
       "3                0.72  ...  0.0    0.0         0.0  0.0         0.0   \n",
       "4                0.37  ...  0.0    0.0         0.0  0.0         0.0   \n",
       "\n",
       "   marketing  product_mng  sales  support  technical  \n",
       "0        0.0          0.0    1.0      0.0        0.0  \n",
       "1        0.0          0.0    1.0      0.0        0.0  \n",
       "2        0.0          0.0    1.0      0.0        0.0  \n",
       "3        0.0          0.0    1.0      0.0        0.0  \n",
       "4        0.0          0.0    1.0      0.0        0.0  \n",
       "\n",
       "[5 rows x 21 columns]"
      ]
     },
     "execution_count": 58,
     "metadata": {},
     "output_type": "execute_result"
    }
   ],
   "source": [
    "df1.head()"
   ]
  },
  {
   "cell_type": "code",
   "execution_count": 59,
   "id": "e4389614",
   "metadata": {},
   "outputs": [],
   "source": [
    "df1.drop(\"department\",axis=1,inplace=True)"
   ]
  },
  {
   "cell_type": "markdown",
   "id": "2c184117",
   "metadata": {},
   "source": [
    "### salary"
   ]
  },
  {
   "cell_type": "code",
   "execution_count": 60,
   "id": "39d61699",
   "metadata": {},
   "outputs": [
    {
     "data": {
      "text/plain": [
       "array(['low', 'medium', 'high'], dtype=object)"
      ]
     },
     "execution_count": 60,
     "metadata": {},
     "output_type": "execute_result"
    }
   ],
   "source": [
    "df[\"salary\"].unique()"
   ]
  },
  {
   "cell_type": "code",
   "execution_count": 61,
   "id": "5789241c",
   "metadata": {},
   "outputs": [],
   "source": [
    "oe = OrdinalEncoder(categories=[[\"low\",\"medium\",\"high\"]])\n",
    "oe.fit(df1[[\"salary\"]])\n",
    "df1[\"salary\"] = oe.fit_transform(df1[[\"salary\"]])"
   ]
  },
  {
   "cell_type": "code",
   "execution_count": 62,
   "id": "e12743d8",
   "metadata": {},
   "outputs": [
    {
     "data": {
      "text/html": [
       "<div>\n",
       "<style scoped>\n",
       "    .dataframe tbody tr th:only-of-type {\n",
       "        vertical-align: middle;\n",
       "    }\n",
       "\n",
       "    .dataframe tbody tr th {\n",
       "        vertical-align: top;\n",
       "    }\n",
       "\n",
       "    .dataframe thead th {\n",
       "        text-align: right;\n",
       "    }\n",
       "</style>\n",
       "<table border=\"1\" class=\"dataframe\">\n",
       "  <thead>\n",
       "    <tr style=\"text-align: right;\">\n",
       "      <th></th>\n",
       "      <th>employee_id</th>\n",
       "      <th>number_project</th>\n",
       "      <th>average_montly_hours</th>\n",
       "      <th>time_spend_company</th>\n",
       "      <th>Work_accident</th>\n",
       "      <th>left</th>\n",
       "      <th>promotion_last_5years</th>\n",
       "      <th>salary</th>\n",
       "      <th>satisfaction_level</th>\n",
       "      <th>last_evaluation</th>\n",
       "      <th>IT</th>\n",
       "      <th>RandD</th>\n",
       "      <th>accounting</th>\n",
       "      <th>hr</th>\n",
       "      <th>management</th>\n",
       "      <th>marketing</th>\n",
       "      <th>product_mng</th>\n",
       "      <th>sales</th>\n",
       "      <th>support</th>\n",
       "      <th>technical</th>\n",
       "    </tr>\n",
       "  </thead>\n",
       "  <tbody>\n",
       "    <tr>\n",
       "      <th>0</th>\n",
       "      <td>1003</td>\n",
       "      <td>2</td>\n",
       "      <td>157</td>\n",
       "      <td>3</td>\n",
       "      <td>0</td>\n",
       "      <td>1</td>\n",
       "      <td>0</td>\n",
       "      <td>0.0</td>\n",
       "      <td>0.38</td>\n",
       "      <td>0.53</td>\n",
       "      <td>0.0</td>\n",
       "      <td>0.0</td>\n",
       "      <td>0.0</td>\n",
       "      <td>0.0</td>\n",
       "      <td>0.0</td>\n",
       "      <td>0.0</td>\n",
       "      <td>0.0</td>\n",
       "      <td>1.0</td>\n",
       "      <td>0.0</td>\n",
       "      <td>0.0</td>\n",
       "    </tr>\n",
       "    <tr>\n",
       "      <th>1</th>\n",
       "      <td>1005</td>\n",
       "      <td>5</td>\n",
       "      <td>262</td>\n",
       "      <td>3</td>\n",
       "      <td>0</td>\n",
       "      <td>1</td>\n",
       "      <td>0</td>\n",
       "      <td>1.0</td>\n",
       "      <td>0.80</td>\n",
       "      <td>0.86</td>\n",
       "      <td>0.0</td>\n",
       "      <td>0.0</td>\n",
       "      <td>0.0</td>\n",
       "      <td>0.0</td>\n",
       "      <td>0.0</td>\n",
       "      <td>0.0</td>\n",
       "      <td>0.0</td>\n",
       "      <td>1.0</td>\n",
       "      <td>0.0</td>\n",
       "      <td>0.0</td>\n",
       "    </tr>\n",
       "    <tr>\n",
       "      <th>2</th>\n",
       "      <td>1486</td>\n",
       "      <td>7</td>\n",
       "      <td>272</td>\n",
       "      <td>4</td>\n",
       "      <td>0</td>\n",
       "      <td>1</td>\n",
       "      <td>0</td>\n",
       "      <td>1.0</td>\n",
       "      <td>0.11</td>\n",
       "      <td>0.88</td>\n",
       "      <td>0.0</td>\n",
       "      <td>0.0</td>\n",
       "      <td>0.0</td>\n",
       "      <td>0.0</td>\n",
       "      <td>0.0</td>\n",
       "      <td>0.0</td>\n",
       "      <td>0.0</td>\n",
       "      <td>1.0</td>\n",
       "      <td>0.0</td>\n",
       "      <td>0.0</td>\n",
       "    </tr>\n",
       "    <tr>\n",
       "      <th>3</th>\n",
       "      <td>1038</td>\n",
       "      <td>5</td>\n",
       "      <td>223</td>\n",
       "      <td>5</td>\n",
       "      <td>0</td>\n",
       "      <td>1</td>\n",
       "      <td>0</td>\n",
       "      <td>0.0</td>\n",
       "      <td>0.72</td>\n",
       "      <td>0.87</td>\n",
       "      <td>0.0</td>\n",
       "      <td>0.0</td>\n",
       "      <td>0.0</td>\n",
       "      <td>0.0</td>\n",
       "      <td>0.0</td>\n",
       "      <td>0.0</td>\n",
       "      <td>0.0</td>\n",
       "      <td>1.0</td>\n",
       "      <td>0.0</td>\n",
       "      <td>0.0</td>\n",
       "    </tr>\n",
       "    <tr>\n",
       "      <th>4</th>\n",
       "      <td>1057</td>\n",
       "      <td>2</td>\n",
       "      <td>159</td>\n",
       "      <td>3</td>\n",
       "      <td>0</td>\n",
       "      <td>1</td>\n",
       "      <td>0</td>\n",
       "      <td>0.0</td>\n",
       "      <td>0.37</td>\n",
       "      <td>0.52</td>\n",
       "      <td>0.0</td>\n",
       "      <td>0.0</td>\n",
       "      <td>0.0</td>\n",
       "      <td>0.0</td>\n",
       "      <td>0.0</td>\n",
       "      <td>0.0</td>\n",
       "      <td>0.0</td>\n",
       "      <td>1.0</td>\n",
       "      <td>0.0</td>\n",
       "      <td>0.0</td>\n",
       "    </tr>\n",
       "  </tbody>\n",
       "</table>\n",
       "</div>"
      ],
      "text/plain": [
       "   employee_id  number_project  average_montly_hours  time_spend_company  \\\n",
       "0         1003               2                   157                   3   \n",
       "1         1005               5                   262                   3   \n",
       "2         1486               7                   272                   4   \n",
       "3         1038               5                   223                   5   \n",
       "4         1057               2                   159                   3   \n",
       "\n",
       "   Work_accident  left  promotion_last_5years  salary  satisfaction_level  \\\n",
       "0              0     1                      0     0.0                0.38   \n",
       "1              0     1                      0     1.0                0.80   \n",
       "2              0     1                      0     1.0                0.11   \n",
       "3              0     1                      0     0.0                0.72   \n",
       "4              0     1                      0     0.0                0.37   \n",
       "\n",
       "   last_evaluation   IT  RandD  accounting   hr  management  marketing  \\\n",
       "0             0.53  0.0    0.0         0.0  0.0         0.0        0.0   \n",
       "1             0.86  0.0    0.0         0.0  0.0         0.0        0.0   \n",
       "2             0.88  0.0    0.0         0.0  0.0         0.0        0.0   \n",
       "3             0.87  0.0    0.0         0.0  0.0         0.0        0.0   \n",
       "4             0.52  0.0    0.0         0.0  0.0         0.0        0.0   \n",
       "\n",
       "   product_mng  sales  support  technical  \n",
       "0          0.0    1.0      0.0        0.0  \n",
       "1          0.0    1.0      0.0        0.0  \n",
       "2          0.0    1.0      0.0        0.0  \n",
       "3          0.0    1.0      0.0        0.0  \n",
       "4          0.0    1.0      0.0        0.0  "
      ]
     },
     "execution_count": 62,
     "metadata": {},
     "output_type": "execute_result"
    }
   ],
   "source": [
    "df1.head()"
   ]
  },
  {
   "cell_type": "code",
   "execution_count": 63,
   "id": "0f4063ff",
   "metadata": {},
   "outputs": [
    {
     "data": {
      "text/html": [
       "<div>\n",
       "<style scoped>\n",
       "    .dataframe tbody tr th:only-of-type {\n",
       "        vertical-align: middle;\n",
       "    }\n",
       "\n",
       "    .dataframe tbody tr th {\n",
       "        vertical-align: top;\n",
       "    }\n",
       "\n",
       "    .dataframe thead th {\n",
       "        text-align: right;\n",
       "    }\n",
       "</style>\n",
       "<table border=\"1\" class=\"dataframe\">\n",
       "  <thead>\n",
       "    <tr style=\"text-align: right;\">\n",
       "      <th></th>\n",
       "      <th>employee_id</th>\n",
       "      <th>number_project</th>\n",
       "      <th>average_montly_hours</th>\n",
       "      <th>time_spend_company</th>\n",
       "      <th>Work_accident</th>\n",
       "      <th>left</th>\n",
       "      <th>promotion_last_5years</th>\n",
       "      <th>salary</th>\n",
       "      <th>satisfaction_level</th>\n",
       "      <th>last_evaluation</th>\n",
       "      <th>IT</th>\n",
       "      <th>RandD</th>\n",
       "      <th>accounting</th>\n",
       "      <th>hr</th>\n",
       "      <th>management</th>\n",
       "      <th>marketing</th>\n",
       "      <th>product_mng</th>\n",
       "      <th>sales</th>\n",
       "      <th>support</th>\n",
       "      <th>technical</th>\n",
       "    </tr>\n",
       "  </thead>\n",
       "  <tbody>\n",
       "    <tr>\n",
       "      <th>employee_id</th>\n",
       "      <td>1.000000</td>\n",
       "      <td>-0.009225</td>\n",
       "      <td>-0.007175</td>\n",
       "      <td>-0.035292</td>\n",
       "      <td>0.010482</td>\n",
       "      <td>-0.099736</td>\n",
       "      <td>0.079406</td>\n",
       "      <td>0.047249</td>\n",
       "      <td>0.041777</td>\n",
       "      <td>-0.011501</td>\n",
       "      <td>0.005716</td>\n",
       "      <td>-0.032318</td>\n",
       "      <td>-0.004279</td>\n",
       "      <td>-0.022633</td>\n",
       "      <td>0.063864</td>\n",
       "      <td>0.019292</td>\n",
       "      <td>0.032939</td>\n",
       "      <td>0.023104</td>\n",
       "      <td>-0.024428</td>\n",
       "      <td>-0.039657</td>\n",
       "    </tr>\n",
       "    <tr>\n",
       "      <th>number_project</th>\n",
       "      <td>-0.009225</td>\n",
       "      <td>1.000000</td>\n",
       "      <td>0.417211</td>\n",
       "      <td>0.285624</td>\n",
       "      <td>-0.004741</td>\n",
       "      <td>0.023787</td>\n",
       "      <td>-0.006064</td>\n",
       "      <td>-0.001803</td>\n",
       "      <td>-0.143895</td>\n",
       "      <td>0.348776</td>\n",
       "      <td>0.003287</td>\n",
       "      <td>0.009703</td>\n",
       "      <td>0.004189</td>\n",
       "      <td>-0.027356</td>\n",
       "      <td>0.009728</td>\n",
       "      <td>-0.023064</td>\n",
       "      <td>0.000829</td>\n",
       "      <td>-0.013388</td>\n",
       "      <td>0.000303</td>\n",
       "      <td>0.028596</td>\n",
       "    </tr>\n",
       "    <tr>\n",
       "      <th>average_montly_hours</th>\n",
       "      <td>-0.007175</td>\n",
       "      <td>0.417211</td>\n",
       "      <td>1.000000</td>\n",
       "      <td>0.191603</td>\n",
       "      <td>-0.010143</td>\n",
       "      <td>0.071287</td>\n",
       "      <td>-0.003544</td>\n",
       "      <td>-0.002242</td>\n",
       "      <td>-0.020886</td>\n",
       "      <td>0.339014</td>\n",
       "      <td>0.006967</td>\n",
       "      <td>-0.001177</td>\n",
       "      <td>0.000524</td>\n",
       "      <td>-0.010783</td>\n",
       "      <td>0.000834</td>\n",
       "      <td>-0.008210</td>\n",
       "      <td>-0.005494</td>\n",
       "      <td>-0.001718</td>\n",
       "      <td>-0.002444</td>\n",
       "      <td>0.013638</td>\n",
       "    </tr>\n",
       "    <tr>\n",
       "      <th>time_spend_company</th>\n",
       "      <td>-0.035292</td>\n",
       "      <td>0.285624</td>\n",
       "      <td>0.191603</td>\n",
       "      <td>1.000000</td>\n",
       "      <td>-0.048954</td>\n",
       "      <td>0.353591</td>\n",
       "      <td>-0.017552</td>\n",
       "      <td>-0.054537</td>\n",
       "      <td>-0.201465</td>\n",
       "      <td>0.184918</td>\n",
       "      <td>0.006767</td>\n",
       "      <td>-0.001901</td>\n",
       "      <td>0.018258</td>\n",
       "      <td>-0.000461</td>\n",
       "      <td>-0.012181</td>\n",
       "      <td>-0.005683</td>\n",
       "      <td>-0.001886</td>\n",
       "      <td>-0.009176</td>\n",
       "      <td>-0.006185</td>\n",
       "      <td>0.013393</td>\n",
       "    </tr>\n",
       "    <tr>\n",
       "      <th>Work_accident</th>\n",
       "      <td>0.010482</td>\n",
       "      <td>-0.004741</td>\n",
       "      <td>-0.010143</td>\n",
       "      <td>-0.048954</td>\n",
       "      <td>1.000000</td>\n",
       "      <td>-0.154622</td>\n",
       "      <td>0.039245</td>\n",
       "      <td>0.009247</td>\n",
       "      <td>0.059063</td>\n",
       "      <td>-0.006779</td>\n",
       "      <td>-0.009293</td>\n",
       "      <td>0.017167</td>\n",
       "      <td>-0.012836</td>\n",
       "      <td>-0.015649</td>\n",
       "      <td>0.011242</td>\n",
       "      <td>0.011367</td>\n",
       "      <td>0.001246</td>\n",
       "      <td>-0.004955</td>\n",
       "      <td>0.012079</td>\n",
       "      <td>-0.006070</td>\n",
       "    </tr>\n",
       "    <tr>\n",
       "      <th>left</th>\n",
       "      <td>-0.099736</td>\n",
       "      <td>0.023787</td>\n",
       "      <td>0.071287</td>\n",
       "      <td>0.353591</td>\n",
       "      <td>-0.154622</td>\n",
       "      <td>1.000000</td>\n",
       "      <td>-0.061788</td>\n",
       "      <td>-0.157898</td>\n",
       "      <td>-0.388282</td>\n",
       "      <td>0.006876</td>\n",
       "      <td>-0.010925</td>\n",
       "      <td>-0.046596</td>\n",
       "      <td>0.015201</td>\n",
       "      <td>0.028249</td>\n",
       "      <td>-0.046035</td>\n",
       "      <td>-0.000859</td>\n",
       "      <td>-0.011029</td>\n",
       "      <td>0.009923</td>\n",
       "      <td>0.010700</td>\n",
       "      <td>0.020076</td>\n",
       "    </tr>\n",
       "    <tr>\n",
       "      <th>promotion_last_5years</th>\n",
       "      <td>0.079406</td>\n",
       "      <td>-0.006064</td>\n",
       "      <td>-0.003544</td>\n",
       "      <td>-0.017552</td>\n",
       "      <td>0.039245</td>\n",
       "      <td>-0.061788</td>\n",
       "      <td>1.000000</td>\n",
       "      <td>0.098119</td>\n",
       "      <td>0.025925</td>\n",
       "      <td>-0.007815</td>\n",
       "      <td>-0.038942</td>\n",
       "      <td>0.021268</td>\n",
       "      <td>-0.004852</td>\n",
       "      <td>-0.001531</td>\n",
       "      <td>0.128087</td>\n",
       "      <td>0.049253</td>\n",
       "      <td>-0.037288</td>\n",
       "      <td>0.012353</td>\n",
       "      <td>-0.035605</td>\n",
       "      <td>-0.035799</td>\n",
       "    </tr>\n",
       "    <tr>\n",
       "      <th>salary</th>\n",
       "      <td>0.047249</td>\n",
       "      <td>-0.001803</td>\n",
       "      <td>-0.002242</td>\n",
       "      <td>-0.054537</td>\n",
       "      <td>0.009247</td>\n",
       "      <td>-0.157898</td>\n",
       "      <td>0.098119</td>\n",
       "      <td>1.000000</td>\n",
       "      <td>0.049805</td>\n",
       "      <td>-0.013320</td>\n",
       "      <td>-0.010959</td>\n",
       "      <td>0.002800</td>\n",
       "      <td>0.012759</td>\n",
       "      <td>0.004599</td>\n",
       "      <td>0.156665</td>\n",
       "      <td>0.011599</td>\n",
       "      <td>-0.007669</td>\n",
       "      <td>-0.035599</td>\n",
       "      <td>-0.029888</td>\n",
       "      <td>-0.018630</td>\n",
       "    </tr>\n",
       "    <tr>\n",
       "      <th>satisfaction_level</th>\n",
       "      <td>0.041777</td>\n",
       "      <td>-0.143895</td>\n",
       "      <td>-0.020886</td>\n",
       "      <td>-0.201465</td>\n",
       "      <td>0.059063</td>\n",
       "      <td>-0.388282</td>\n",
       "      <td>0.025925</td>\n",
       "      <td>0.049805</td>\n",
       "      <td>1.000000</td>\n",
       "      <td>0.103783</td>\n",
       "      <td>0.006100</td>\n",
       "      <td>0.006622</td>\n",
       "      <td>-0.028452</td>\n",
       "      <td>-0.012826</td>\n",
       "      <td>0.007601</td>\n",
       "      <td>0.005563</td>\n",
       "      <td>0.007249</td>\n",
       "      <td>0.004000</td>\n",
       "      <td>0.008984</td>\n",
       "      <td>-0.009418</td>\n",
       "    </tr>\n",
       "    <tr>\n",
       "      <th>last_evaluation</th>\n",
       "      <td>-0.011501</td>\n",
       "      <td>0.348776</td>\n",
       "      <td>0.339014</td>\n",
       "      <td>0.184918</td>\n",
       "      <td>-0.006779</td>\n",
       "      <td>0.006876</td>\n",
       "      <td>-0.007815</td>\n",
       "      <td>-0.013320</td>\n",
       "      <td>0.103783</td>\n",
       "      <td>1.000000</td>\n",
       "      <td>0.001092</td>\n",
       "      <td>-0.005498</td>\n",
       "      <td>0.002546</td>\n",
       "      <td>-0.009387</td>\n",
       "      <td>0.009867</td>\n",
       "      <td>-0.000821</td>\n",
       "      <td>-0.002103</td>\n",
       "      <td>-0.023133</td>\n",
       "      <td>0.016764</td>\n",
       "      <td>0.014240</td>\n",
       "    </tr>\n",
       "    <tr>\n",
       "      <th>IT</th>\n",
       "      <td>0.005716</td>\n",
       "      <td>0.003287</td>\n",
       "      <td>0.006967</td>\n",
       "      <td>0.006767</td>\n",
       "      <td>-0.009293</td>\n",
       "      <td>-0.010925</td>\n",
       "      <td>-0.038942</td>\n",
       "      <td>-0.010959</td>\n",
       "      <td>0.006100</td>\n",
       "      <td>0.001092</td>\n",
       "      <td>1.000000</td>\n",
       "      <td>-0.070240</td>\n",
       "      <td>-0.069293</td>\n",
       "      <td>-0.067949</td>\n",
       "      <td>-0.062500</td>\n",
       "      <td>-0.073524</td>\n",
       "      <td>-0.075503</td>\n",
       "      <td>-0.184302</td>\n",
       "      <td>-0.124705</td>\n",
       "      <td>-0.140484</td>\n",
       "    </tr>\n",
       "    <tr>\n",
       "      <th>RandD</th>\n",
       "      <td>-0.032318</td>\n",
       "      <td>0.009703</td>\n",
       "      <td>-0.001177</td>\n",
       "      <td>-0.001901</td>\n",
       "      <td>0.017167</td>\n",
       "      <td>-0.046596</td>\n",
       "      <td>0.021268</td>\n",
       "      <td>0.002800</td>\n",
       "      <td>0.006622</td>\n",
       "      <td>-0.005498</td>\n",
       "      <td>-0.070240</td>\n",
       "      <td>1.000000</td>\n",
       "      <td>-0.054629</td>\n",
       "      <td>-0.053570</td>\n",
       "      <td>-0.049274</td>\n",
       "      <td>-0.057965</td>\n",
       "      <td>-0.059525</td>\n",
       "      <td>-0.145300</td>\n",
       "      <td>-0.098315</td>\n",
       "      <td>-0.110755</td>\n",
       "    </tr>\n",
       "    <tr>\n",
       "      <th>accounting</th>\n",
       "      <td>-0.004279</td>\n",
       "      <td>0.004189</td>\n",
       "      <td>0.000524</td>\n",
       "      <td>0.018258</td>\n",
       "      <td>-0.012836</td>\n",
       "      <td>0.015201</td>\n",
       "      <td>-0.004852</td>\n",
       "      <td>0.012759</td>\n",
       "      <td>-0.028452</td>\n",
       "      <td>0.002546</td>\n",
       "      <td>-0.069293</td>\n",
       "      <td>-0.054629</td>\n",
       "      <td>1.000000</td>\n",
       "      <td>-0.052848</td>\n",
       "      <td>-0.048610</td>\n",
       "      <td>-0.057183</td>\n",
       "      <td>-0.058723</td>\n",
       "      <td>-0.143341</td>\n",
       "      <td>-0.096989</td>\n",
       "      <td>-0.109262</td>\n",
       "    </tr>\n",
       "    <tr>\n",
       "      <th>hr</th>\n",
       "      <td>-0.022633</td>\n",
       "      <td>-0.027356</td>\n",
       "      <td>-0.010783</td>\n",
       "      <td>-0.000461</td>\n",
       "      <td>-0.015649</td>\n",
       "      <td>0.028249</td>\n",
       "      <td>-0.001531</td>\n",
       "      <td>0.004599</td>\n",
       "      <td>-0.012826</td>\n",
       "      <td>-0.009387</td>\n",
       "      <td>-0.067949</td>\n",
       "      <td>-0.053570</td>\n",
       "      <td>-0.052848</td>\n",
       "      <td>1.000000</td>\n",
       "      <td>-0.047667</td>\n",
       "      <td>-0.056075</td>\n",
       "      <td>-0.057584</td>\n",
       "      <td>-0.140562</td>\n",
       "      <td>-0.095109</td>\n",
       "      <td>-0.107143</td>\n",
       "    </tr>\n",
       "    <tr>\n",
       "      <th>management</th>\n",
       "      <td>0.063864</td>\n",
       "      <td>0.009728</td>\n",
       "      <td>0.000834</td>\n",
       "      <td>-0.012181</td>\n",
       "      <td>0.011242</td>\n",
       "      <td>-0.046035</td>\n",
       "      <td>0.128087</td>\n",
       "      <td>0.156665</td>\n",
       "      <td>0.007601</td>\n",
       "      <td>0.009867</td>\n",
       "      <td>-0.062500</td>\n",
       "      <td>-0.049274</td>\n",
       "      <td>-0.048610</td>\n",
       "      <td>-0.047667</td>\n",
       "      <td>1.000000</td>\n",
       "      <td>-0.051578</td>\n",
       "      <td>-0.052966</td>\n",
       "      <td>-0.129289</td>\n",
       "      <td>-0.087482</td>\n",
       "      <td>-0.098551</td>\n",
       "    </tr>\n",
       "    <tr>\n",
       "      <th>marketing</th>\n",
       "      <td>0.019292</td>\n",
       "      <td>-0.023064</td>\n",
       "      <td>-0.008210</td>\n",
       "      <td>-0.005683</td>\n",
       "      <td>0.011367</td>\n",
       "      <td>-0.000859</td>\n",
       "      <td>0.049253</td>\n",
       "      <td>0.011599</td>\n",
       "      <td>0.005563</td>\n",
       "      <td>-0.000821</td>\n",
       "      <td>-0.073524</td>\n",
       "      <td>-0.057965</td>\n",
       "      <td>-0.057183</td>\n",
       "      <td>-0.056075</td>\n",
       "      <td>-0.051578</td>\n",
       "      <td>1.000000</td>\n",
       "      <td>-0.062308</td>\n",
       "      <td>-0.152093</td>\n",
       "      <td>-0.102911</td>\n",
       "      <td>-0.115933</td>\n",
       "    </tr>\n",
       "    <tr>\n",
       "      <th>product_mng</th>\n",
       "      <td>0.032939</td>\n",
       "      <td>0.000829</td>\n",
       "      <td>-0.005494</td>\n",
       "      <td>-0.001886</td>\n",
       "      <td>0.001246</td>\n",
       "      <td>-0.011029</td>\n",
       "      <td>-0.037288</td>\n",
       "      <td>-0.007669</td>\n",
       "      <td>0.007249</td>\n",
       "      <td>-0.002103</td>\n",
       "      <td>-0.075503</td>\n",
       "      <td>-0.059525</td>\n",
       "      <td>-0.058723</td>\n",
       "      <td>-0.057584</td>\n",
       "      <td>-0.052966</td>\n",
       "      <td>-0.062308</td>\n",
       "      <td>1.000000</td>\n",
       "      <td>-0.156187</td>\n",
       "      <td>-0.105682</td>\n",
       "      <td>-0.119054</td>\n",
       "    </tr>\n",
       "    <tr>\n",
       "      <th>sales</th>\n",
       "      <td>0.023104</td>\n",
       "      <td>-0.013388</td>\n",
       "      <td>-0.001718</td>\n",
       "      <td>-0.009176</td>\n",
       "      <td>-0.004955</td>\n",
       "      <td>0.009923</td>\n",
       "      <td>0.012353</td>\n",
       "      <td>-0.035599</td>\n",
       "      <td>0.004000</td>\n",
       "      <td>-0.023133</td>\n",
       "      <td>-0.184302</td>\n",
       "      <td>-0.145300</td>\n",
       "      <td>-0.143341</td>\n",
       "      <td>-0.140562</td>\n",
       "      <td>-0.129289</td>\n",
       "      <td>-0.152093</td>\n",
       "      <td>-0.156187</td>\n",
       "      <td>1.000000</td>\n",
       "      <td>-0.257967</td>\n",
       "      <td>-0.290608</td>\n",
       "    </tr>\n",
       "    <tr>\n",
       "      <th>support</th>\n",
       "      <td>-0.024428</td>\n",
       "      <td>0.000303</td>\n",
       "      <td>-0.002444</td>\n",
       "      <td>-0.006185</td>\n",
       "      <td>0.012079</td>\n",
       "      <td>0.010700</td>\n",
       "      <td>-0.035605</td>\n",
       "      <td>-0.029888</td>\n",
       "      <td>0.008984</td>\n",
       "      <td>0.016764</td>\n",
       "      <td>-0.124705</td>\n",
       "      <td>-0.098315</td>\n",
       "      <td>-0.096989</td>\n",
       "      <td>-0.095109</td>\n",
       "      <td>-0.087482</td>\n",
       "      <td>-0.102911</td>\n",
       "      <td>-0.105682</td>\n",
       "      <td>-0.257967</td>\n",
       "      <td>1.000000</td>\n",
       "      <td>-0.196636</td>\n",
       "    </tr>\n",
       "    <tr>\n",
       "      <th>technical</th>\n",
       "      <td>-0.039657</td>\n",
       "      <td>0.028596</td>\n",
       "      <td>0.013638</td>\n",
       "      <td>0.013393</td>\n",
       "      <td>-0.006070</td>\n",
       "      <td>0.020076</td>\n",
       "      <td>-0.035799</td>\n",
       "      <td>-0.018630</td>\n",
       "      <td>-0.009418</td>\n",
       "      <td>0.014240</td>\n",
       "      <td>-0.140484</td>\n",
       "      <td>-0.110755</td>\n",
       "      <td>-0.109262</td>\n",
       "      <td>-0.107143</td>\n",
       "      <td>-0.098551</td>\n",
       "      <td>-0.115933</td>\n",
       "      <td>-0.119054</td>\n",
       "      <td>-0.290608</td>\n",
       "      <td>-0.196636</td>\n",
       "      <td>1.000000</td>\n",
       "    </tr>\n",
       "  </tbody>\n",
       "</table>\n",
       "</div>"
      ],
      "text/plain": [
       "                       employee_id  number_project  average_montly_hours  \\\n",
       "employee_id               1.000000       -0.009225             -0.007175   \n",
       "number_project           -0.009225        1.000000              0.417211   \n",
       "average_montly_hours     -0.007175        0.417211              1.000000   \n",
       "time_spend_company       -0.035292        0.285624              0.191603   \n",
       "Work_accident             0.010482       -0.004741             -0.010143   \n",
       "left                     -0.099736        0.023787              0.071287   \n",
       "promotion_last_5years     0.079406       -0.006064             -0.003544   \n",
       "salary                    0.047249       -0.001803             -0.002242   \n",
       "satisfaction_level        0.041777       -0.143895             -0.020886   \n",
       "last_evaluation          -0.011501        0.348776              0.339014   \n",
       "IT                        0.005716        0.003287              0.006967   \n",
       "RandD                    -0.032318        0.009703             -0.001177   \n",
       "accounting               -0.004279        0.004189              0.000524   \n",
       "hr                       -0.022633       -0.027356             -0.010783   \n",
       "management                0.063864        0.009728              0.000834   \n",
       "marketing                 0.019292       -0.023064             -0.008210   \n",
       "product_mng               0.032939        0.000829             -0.005494   \n",
       "sales                     0.023104       -0.013388             -0.001718   \n",
       "support                  -0.024428        0.000303             -0.002444   \n",
       "technical                -0.039657        0.028596              0.013638   \n",
       "\n",
       "                       time_spend_company  Work_accident      left  \\\n",
       "employee_id                     -0.035292       0.010482 -0.099736   \n",
       "number_project                   0.285624      -0.004741  0.023787   \n",
       "average_montly_hours             0.191603      -0.010143  0.071287   \n",
       "time_spend_company               1.000000      -0.048954  0.353591   \n",
       "Work_accident                   -0.048954       1.000000 -0.154622   \n",
       "left                             0.353591      -0.154622  1.000000   \n",
       "promotion_last_5years           -0.017552       0.039245 -0.061788   \n",
       "salary                          -0.054537       0.009247 -0.157898   \n",
       "satisfaction_level              -0.201465       0.059063 -0.388282   \n",
       "last_evaluation                  0.184918      -0.006779  0.006876   \n",
       "IT                               0.006767      -0.009293 -0.010925   \n",
       "RandD                           -0.001901       0.017167 -0.046596   \n",
       "accounting                       0.018258      -0.012836  0.015201   \n",
       "hr                              -0.000461      -0.015649  0.028249   \n",
       "management                      -0.012181       0.011242 -0.046035   \n",
       "marketing                       -0.005683       0.011367 -0.000859   \n",
       "product_mng                     -0.001886       0.001246 -0.011029   \n",
       "sales                           -0.009176      -0.004955  0.009923   \n",
       "support                         -0.006185       0.012079  0.010700   \n",
       "technical                        0.013393      -0.006070  0.020076   \n",
       "\n",
       "                       promotion_last_5years    salary  satisfaction_level  \\\n",
       "employee_id                         0.079406  0.047249            0.041777   \n",
       "number_project                     -0.006064 -0.001803           -0.143895   \n",
       "average_montly_hours               -0.003544 -0.002242           -0.020886   \n",
       "time_spend_company                 -0.017552 -0.054537           -0.201465   \n",
       "Work_accident                       0.039245  0.009247            0.059063   \n",
       "left                               -0.061788 -0.157898           -0.388282   \n",
       "promotion_last_5years               1.000000  0.098119            0.025925   \n",
       "salary                              0.098119  1.000000            0.049805   \n",
       "satisfaction_level                  0.025925  0.049805            1.000000   \n",
       "last_evaluation                    -0.007815 -0.013320            0.103783   \n",
       "IT                                 -0.038942 -0.010959            0.006100   \n",
       "RandD                               0.021268  0.002800            0.006622   \n",
       "accounting                         -0.004852  0.012759           -0.028452   \n",
       "hr                                 -0.001531  0.004599           -0.012826   \n",
       "management                          0.128087  0.156665            0.007601   \n",
       "marketing                           0.049253  0.011599            0.005563   \n",
       "product_mng                        -0.037288 -0.007669            0.007249   \n",
       "sales                               0.012353 -0.035599            0.004000   \n",
       "support                            -0.035605 -0.029888            0.008984   \n",
       "technical                          -0.035799 -0.018630           -0.009418   \n",
       "\n",
       "                       last_evaluation        IT     RandD  accounting  \\\n",
       "employee_id                  -0.011501  0.005716 -0.032318   -0.004279   \n",
       "number_project                0.348776  0.003287  0.009703    0.004189   \n",
       "average_montly_hours          0.339014  0.006967 -0.001177    0.000524   \n",
       "time_spend_company            0.184918  0.006767 -0.001901    0.018258   \n",
       "Work_accident                -0.006779 -0.009293  0.017167   -0.012836   \n",
       "left                          0.006876 -0.010925 -0.046596    0.015201   \n",
       "promotion_last_5years        -0.007815 -0.038942  0.021268   -0.004852   \n",
       "salary                       -0.013320 -0.010959  0.002800    0.012759   \n",
       "satisfaction_level            0.103783  0.006100  0.006622   -0.028452   \n",
       "last_evaluation               1.000000  0.001092 -0.005498    0.002546   \n",
       "IT                            0.001092  1.000000 -0.070240   -0.069293   \n",
       "RandD                        -0.005498 -0.070240  1.000000   -0.054629   \n",
       "accounting                    0.002546 -0.069293 -0.054629    1.000000   \n",
       "hr                           -0.009387 -0.067949 -0.053570   -0.052848   \n",
       "management                    0.009867 -0.062500 -0.049274   -0.048610   \n",
       "marketing                    -0.000821 -0.073524 -0.057965   -0.057183   \n",
       "product_mng                  -0.002103 -0.075503 -0.059525   -0.058723   \n",
       "sales                        -0.023133 -0.184302 -0.145300   -0.143341   \n",
       "support                       0.016764 -0.124705 -0.098315   -0.096989   \n",
       "technical                     0.014240 -0.140484 -0.110755   -0.109262   \n",
       "\n",
       "                             hr  management  marketing  product_mng     sales  \\\n",
       "employee_id           -0.022633    0.063864   0.019292     0.032939  0.023104   \n",
       "number_project        -0.027356    0.009728  -0.023064     0.000829 -0.013388   \n",
       "average_montly_hours  -0.010783    0.000834  -0.008210    -0.005494 -0.001718   \n",
       "time_spend_company    -0.000461   -0.012181  -0.005683    -0.001886 -0.009176   \n",
       "Work_accident         -0.015649    0.011242   0.011367     0.001246 -0.004955   \n",
       "left                   0.028249   -0.046035  -0.000859    -0.011029  0.009923   \n",
       "promotion_last_5years -0.001531    0.128087   0.049253    -0.037288  0.012353   \n",
       "salary                 0.004599    0.156665   0.011599    -0.007669 -0.035599   \n",
       "satisfaction_level    -0.012826    0.007601   0.005563     0.007249  0.004000   \n",
       "last_evaluation       -0.009387    0.009867  -0.000821    -0.002103 -0.023133   \n",
       "IT                    -0.067949   -0.062500  -0.073524    -0.075503 -0.184302   \n",
       "RandD                 -0.053570   -0.049274  -0.057965    -0.059525 -0.145300   \n",
       "accounting            -0.052848   -0.048610  -0.057183    -0.058723 -0.143341   \n",
       "hr                     1.000000   -0.047667  -0.056075    -0.057584 -0.140562   \n",
       "management            -0.047667    1.000000  -0.051578    -0.052966 -0.129289   \n",
       "marketing             -0.056075   -0.051578   1.000000    -0.062308 -0.152093   \n",
       "product_mng           -0.057584   -0.052966  -0.062308     1.000000 -0.156187   \n",
       "sales                 -0.140562   -0.129289  -0.152093    -0.156187  1.000000   \n",
       "support               -0.095109   -0.087482  -0.102911    -0.105682 -0.257967   \n",
       "technical             -0.107143   -0.098551  -0.115933    -0.119054 -0.290608   \n",
       "\n",
       "                        support  technical  \n",
       "employee_id           -0.024428  -0.039657  \n",
       "number_project         0.000303   0.028596  \n",
       "average_montly_hours  -0.002444   0.013638  \n",
       "time_spend_company    -0.006185   0.013393  \n",
       "Work_accident          0.012079  -0.006070  \n",
       "left                   0.010700   0.020076  \n",
       "promotion_last_5years -0.035605  -0.035799  \n",
       "salary                -0.029888  -0.018630  \n",
       "satisfaction_level     0.008984  -0.009418  \n",
       "last_evaluation        0.016764   0.014240  \n",
       "IT                    -0.124705  -0.140484  \n",
       "RandD                 -0.098315  -0.110755  \n",
       "accounting            -0.096989  -0.109262  \n",
       "hr                    -0.095109  -0.107143  \n",
       "management            -0.087482  -0.098551  \n",
       "marketing             -0.102911  -0.115933  \n",
       "product_mng           -0.105682  -0.119054  \n",
       "sales                 -0.257967  -0.290608  \n",
       "support                1.000000  -0.196636  \n",
       "technical             -0.196636   1.000000  "
      ]
     },
     "execution_count": 63,
     "metadata": {},
     "output_type": "execute_result"
    }
   ],
   "source": [
    "df1.corr()"
   ]
  },
  {
   "cell_type": "code",
   "execution_count": 64,
   "id": "fb948d9a",
   "metadata": {},
   "outputs": [],
   "source": [
    "df1.drop(\"employee_id\",axis=1,inplace=True)"
   ]
  },
  {
   "cell_type": "code",
   "execution_count": 65,
   "id": "15a58cf3",
   "metadata": {},
   "outputs": [
    {
     "data": {
      "text/html": [
       "<div>\n",
       "<style scoped>\n",
       "    .dataframe tbody tr th:only-of-type {\n",
       "        vertical-align: middle;\n",
       "    }\n",
       "\n",
       "    .dataframe tbody tr th {\n",
       "        vertical-align: top;\n",
       "    }\n",
       "\n",
       "    .dataframe thead th {\n",
       "        text-align: right;\n",
       "    }\n",
       "</style>\n",
       "<table border=\"1\" class=\"dataframe\">\n",
       "  <thead>\n",
       "    <tr style=\"text-align: right;\">\n",
       "      <th></th>\n",
       "      <th>number_project</th>\n",
       "      <th>average_montly_hours</th>\n",
       "      <th>time_spend_company</th>\n",
       "      <th>Work_accident</th>\n",
       "      <th>left</th>\n",
       "      <th>promotion_last_5years</th>\n",
       "      <th>salary</th>\n",
       "      <th>satisfaction_level</th>\n",
       "      <th>last_evaluation</th>\n",
       "      <th>IT</th>\n",
       "      <th>RandD</th>\n",
       "      <th>accounting</th>\n",
       "      <th>hr</th>\n",
       "      <th>management</th>\n",
       "      <th>marketing</th>\n",
       "      <th>product_mng</th>\n",
       "      <th>sales</th>\n",
       "      <th>support</th>\n",
       "      <th>technical</th>\n",
       "    </tr>\n",
       "  </thead>\n",
       "  <tbody>\n",
       "    <tr>\n",
       "      <th>number_project</th>\n",
       "      <td>1.000000</td>\n",
       "      <td>0.417211</td>\n",
       "      <td>0.285624</td>\n",
       "      <td>-0.004741</td>\n",
       "      <td>0.023787</td>\n",
       "      <td>-0.006064</td>\n",
       "      <td>-0.001803</td>\n",
       "      <td>-0.143895</td>\n",
       "      <td>0.348776</td>\n",
       "      <td>0.003287</td>\n",
       "      <td>0.009703</td>\n",
       "      <td>0.004189</td>\n",
       "      <td>-0.027356</td>\n",
       "      <td>0.009728</td>\n",
       "      <td>-0.023064</td>\n",
       "      <td>0.000829</td>\n",
       "      <td>-0.013388</td>\n",
       "      <td>0.000303</td>\n",
       "      <td>0.028596</td>\n",
       "    </tr>\n",
       "    <tr>\n",
       "      <th>average_montly_hours</th>\n",
       "      <td>0.417211</td>\n",
       "      <td>1.000000</td>\n",
       "      <td>0.191603</td>\n",
       "      <td>-0.010143</td>\n",
       "      <td>0.071287</td>\n",
       "      <td>-0.003544</td>\n",
       "      <td>-0.002242</td>\n",
       "      <td>-0.020886</td>\n",
       "      <td>0.339014</td>\n",
       "      <td>0.006967</td>\n",
       "      <td>-0.001177</td>\n",
       "      <td>0.000524</td>\n",
       "      <td>-0.010783</td>\n",
       "      <td>0.000834</td>\n",
       "      <td>-0.008210</td>\n",
       "      <td>-0.005494</td>\n",
       "      <td>-0.001718</td>\n",
       "      <td>-0.002444</td>\n",
       "      <td>0.013638</td>\n",
       "    </tr>\n",
       "    <tr>\n",
       "      <th>time_spend_company</th>\n",
       "      <td>0.285624</td>\n",
       "      <td>0.191603</td>\n",
       "      <td>1.000000</td>\n",
       "      <td>-0.048954</td>\n",
       "      <td>0.353591</td>\n",
       "      <td>-0.017552</td>\n",
       "      <td>-0.054537</td>\n",
       "      <td>-0.201465</td>\n",
       "      <td>0.184918</td>\n",
       "      <td>0.006767</td>\n",
       "      <td>-0.001901</td>\n",
       "      <td>0.018258</td>\n",
       "      <td>-0.000461</td>\n",
       "      <td>-0.012181</td>\n",
       "      <td>-0.005683</td>\n",
       "      <td>-0.001886</td>\n",
       "      <td>-0.009176</td>\n",
       "      <td>-0.006185</td>\n",
       "      <td>0.013393</td>\n",
       "    </tr>\n",
       "    <tr>\n",
       "      <th>Work_accident</th>\n",
       "      <td>-0.004741</td>\n",
       "      <td>-0.010143</td>\n",
       "      <td>-0.048954</td>\n",
       "      <td>1.000000</td>\n",
       "      <td>-0.154622</td>\n",
       "      <td>0.039245</td>\n",
       "      <td>0.009247</td>\n",
       "      <td>0.059063</td>\n",
       "      <td>-0.006779</td>\n",
       "      <td>-0.009293</td>\n",
       "      <td>0.017167</td>\n",
       "      <td>-0.012836</td>\n",
       "      <td>-0.015649</td>\n",
       "      <td>0.011242</td>\n",
       "      <td>0.011367</td>\n",
       "      <td>0.001246</td>\n",
       "      <td>-0.004955</td>\n",
       "      <td>0.012079</td>\n",
       "      <td>-0.006070</td>\n",
       "    </tr>\n",
       "    <tr>\n",
       "      <th>left</th>\n",
       "      <td>0.023787</td>\n",
       "      <td>0.071287</td>\n",
       "      <td>0.353591</td>\n",
       "      <td>-0.154622</td>\n",
       "      <td>1.000000</td>\n",
       "      <td>-0.061788</td>\n",
       "      <td>-0.157898</td>\n",
       "      <td>-0.388282</td>\n",
       "      <td>0.006876</td>\n",
       "      <td>-0.010925</td>\n",
       "      <td>-0.046596</td>\n",
       "      <td>0.015201</td>\n",
       "      <td>0.028249</td>\n",
       "      <td>-0.046035</td>\n",
       "      <td>-0.000859</td>\n",
       "      <td>-0.011029</td>\n",
       "      <td>0.009923</td>\n",
       "      <td>0.010700</td>\n",
       "      <td>0.020076</td>\n",
       "    </tr>\n",
       "    <tr>\n",
       "      <th>promotion_last_5years</th>\n",
       "      <td>-0.006064</td>\n",
       "      <td>-0.003544</td>\n",
       "      <td>-0.017552</td>\n",
       "      <td>0.039245</td>\n",
       "      <td>-0.061788</td>\n",
       "      <td>1.000000</td>\n",
       "      <td>0.098119</td>\n",
       "      <td>0.025925</td>\n",
       "      <td>-0.007815</td>\n",
       "      <td>-0.038942</td>\n",
       "      <td>0.021268</td>\n",
       "      <td>-0.004852</td>\n",
       "      <td>-0.001531</td>\n",
       "      <td>0.128087</td>\n",
       "      <td>0.049253</td>\n",
       "      <td>-0.037288</td>\n",
       "      <td>0.012353</td>\n",
       "      <td>-0.035605</td>\n",
       "      <td>-0.035799</td>\n",
       "    </tr>\n",
       "    <tr>\n",
       "      <th>salary</th>\n",
       "      <td>-0.001803</td>\n",
       "      <td>-0.002242</td>\n",
       "      <td>-0.054537</td>\n",
       "      <td>0.009247</td>\n",
       "      <td>-0.157898</td>\n",
       "      <td>0.098119</td>\n",
       "      <td>1.000000</td>\n",
       "      <td>0.049805</td>\n",
       "      <td>-0.013320</td>\n",
       "      <td>-0.010959</td>\n",
       "      <td>0.002800</td>\n",
       "      <td>0.012759</td>\n",
       "      <td>0.004599</td>\n",
       "      <td>0.156665</td>\n",
       "      <td>0.011599</td>\n",
       "      <td>-0.007669</td>\n",
       "      <td>-0.035599</td>\n",
       "      <td>-0.029888</td>\n",
       "      <td>-0.018630</td>\n",
       "    </tr>\n",
       "    <tr>\n",
       "      <th>satisfaction_level</th>\n",
       "      <td>-0.143895</td>\n",
       "      <td>-0.020886</td>\n",
       "      <td>-0.201465</td>\n",
       "      <td>0.059063</td>\n",
       "      <td>-0.388282</td>\n",
       "      <td>0.025925</td>\n",
       "      <td>0.049805</td>\n",
       "      <td>1.000000</td>\n",
       "      <td>0.103783</td>\n",
       "      <td>0.006100</td>\n",
       "      <td>0.006622</td>\n",
       "      <td>-0.028452</td>\n",
       "      <td>-0.012826</td>\n",
       "      <td>0.007601</td>\n",
       "      <td>0.005563</td>\n",
       "      <td>0.007249</td>\n",
       "      <td>0.004000</td>\n",
       "      <td>0.008984</td>\n",
       "      <td>-0.009418</td>\n",
       "    </tr>\n",
       "    <tr>\n",
       "      <th>last_evaluation</th>\n",
       "      <td>0.348776</td>\n",
       "      <td>0.339014</td>\n",
       "      <td>0.184918</td>\n",
       "      <td>-0.006779</td>\n",
       "      <td>0.006876</td>\n",
       "      <td>-0.007815</td>\n",
       "      <td>-0.013320</td>\n",
       "      <td>0.103783</td>\n",
       "      <td>1.000000</td>\n",
       "      <td>0.001092</td>\n",
       "      <td>-0.005498</td>\n",
       "      <td>0.002546</td>\n",
       "      <td>-0.009387</td>\n",
       "      <td>0.009867</td>\n",
       "      <td>-0.000821</td>\n",
       "      <td>-0.002103</td>\n",
       "      <td>-0.023133</td>\n",
       "      <td>0.016764</td>\n",
       "      <td>0.014240</td>\n",
       "    </tr>\n",
       "    <tr>\n",
       "      <th>IT</th>\n",
       "      <td>0.003287</td>\n",
       "      <td>0.006967</td>\n",
       "      <td>0.006767</td>\n",
       "      <td>-0.009293</td>\n",
       "      <td>-0.010925</td>\n",
       "      <td>-0.038942</td>\n",
       "      <td>-0.010959</td>\n",
       "      <td>0.006100</td>\n",
       "      <td>0.001092</td>\n",
       "      <td>1.000000</td>\n",
       "      <td>-0.070240</td>\n",
       "      <td>-0.069293</td>\n",
       "      <td>-0.067949</td>\n",
       "      <td>-0.062500</td>\n",
       "      <td>-0.073524</td>\n",
       "      <td>-0.075503</td>\n",
       "      <td>-0.184302</td>\n",
       "      <td>-0.124705</td>\n",
       "      <td>-0.140484</td>\n",
       "    </tr>\n",
       "    <tr>\n",
       "      <th>RandD</th>\n",
       "      <td>0.009703</td>\n",
       "      <td>-0.001177</td>\n",
       "      <td>-0.001901</td>\n",
       "      <td>0.017167</td>\n",
       "      <td>-0.046596</td>\n",
       "      <td>0.021268</td>\n",
       "      <td>0.002800</td>\n",
       "      <td>0.006622</td>\n",
       "      <td>-0.005498</td>\n",
       "      <td>-0.070240</td>\n",
       "      <td>1.000000</td>\n",
       "      <td>-0.054629</td>\n",
       "      <td>-0.053570</td>\n",
       "      <td>-0.049274</td>\n",
       "      <td>-0.057965</td>\n",
       "      <td>-0.059525</td>\n",
       "      <td>-0.145300</td>\n",
       "      <td>-0.098315</td>\n",
       "      <td>-0.110755</td>\n",
       "    </tr>\n",
       "    <tr>\n",
       "      <th>accounting</th>\n",
       "      <td>0.004189</td>\n",
       "      <td>0.000524</td>\n",
       "      <td>0.018258</td>\n",
       "      <td>-0.012836</td>\n",
       "      <td>0.015201</td>\n",
       "      <td>-0.004852</td>\n",
       "      <td>0.012759</td>\n",
       "      <td>-0.028452</td>\n",
       "      <td>0.002546</td>\n",
       "      <td>-0.069293</td>\n",
       "      <td>-0.054629</td>\n",
       "      <td>1.000000</td>\n",
       "      <td>-0.052848</td>\n",
       "      <td>-0.048610</td>\n",
       "      <td>-0.057183</td>\n",
       "      <td>-0.058723</td>\n",
       "      <td>-0.143341</td>\n",
       "      <td>-0.096989</td>\n",
       "      <td>-0.109262</td>\n",
       "    </tr>\n",
       "    <tr>\n",
       "      <th>hr</th>\n",
       "      <td>-0.027356</td>\n",
       "      <td>-0.010783</td>\n",
       "      <td>-0.000461</td>\n",
       "      <td>-0.015649</td>\n",
       "      <td>0.028249</td>\n",
       "      <td>-0.001531</td>\n",
       "      <td>0.004599</td>\n",
       "      <td>-0.012826</td>\n",
       "      <td>-0.009387</td>\n",
       "      <td>-0.067949</td>\n",
       "      <td>-0.053570</td>\n",
       "      <td>-0.052848</td>\n",
       "      <td>1.000000</td>\n",
       "      <td>-0.047667</td>\n",
       "      <td>-0.056075</td>\n",
       "      <td>-0.057584</td>\n",
       "      <td>-0.140562</td>\n",
       "      <td>-0.095109</td>\n",
       "      <td>-0.107143</td>\n",
       "    </tr>\n",
       "    <tr>\n",
       "      <th>management</th>\n",
       "      <td>0.009728</td>\n",
       "      <td>0.000834</td>\n",
       "      <td>-0.012181</td>\n",
       "      <td>0.011242</td>\n",
       "      <td>-0.046035</td>\n",
       "      <td>0.128087</td>\n",
       "      <td>0.156665</td>\n",
       "      <td>0.007601</td>\n",
       "      <td>0.009867</td>\n",
       "      <td>-0.062500</td>\n",
       "      <td>-0.049274</td>\n",
       "      <td>-0.048610</td>\n",
       "      <td>-0.047667</td>\n",
       "      <td>1.000000</td>\n",
       "      <td>-0.051578</td>\n",
       "      <td>-0.052966</td>\n",
       "      <td>-0.129289</td>\n",
       "      <td>-0.087482</td>\n",
       "      <td>-0.098551</td>\n",
       "    </tr>\n",
       "    <tr>\n",
       "      <th>marketing</th>\n",
       "      <td>-0.023064</td>\n",
       "      <td>-0.008210</td>\n",
       "      <td>-0.005683</td>\n",
       "      <td>0.011367</td>\n",
       "      <td>-0.000859</td>\n",
       "      <td>0.049253</td>\n",
       "      <td>0.011599</td>\n",
       "      <td>0.005563</td>\n",
       "      <td>-0.000821</td>\n",
       "      <td>-0.073524</td>\n",
       "      <td>-0.057965</td>\n",
       "      <td>-0.057183</td>\n",
       "      <td>-0.056075</td>\n",
       "      <td>-0.051578</td>\n",
       "      <td>1.000000</td>\n",
       "      <td>-0.062308</td>\n",
       "      <td>-0.152093</td>\n",
       "      <td>-0.102911</td>\n",
       "      <td>-0.115933</td>\n",
       "    </tr>\n",
       "    <tr>\n",
       "      <th>product_mng</th>\n",
       "      <td>0.000829</td>\n",
       "      <td>-0.005494</td>\n",
       "      <td>-0.001886</td>\n",
       "      <td>0.001246</td>\n",
       "      <td>-0.011029</td>\n",
       "      <td>-0.037288</td>\n",
       "      <td>-0.007669</td>\n",
       "      <td>0.007249</td>\n",
       "      <td>-0.002103</td>\n",
       "      <td>-0.075503</td>\n",
       "      <td>-0.059525</td>\n",
       "      <td>-0.058723</td>\n",
       "      <td>-0.057584</td>\n",
       "      <td>-0.052966</td>\n",
       "      <td>-0.062308</td>\n",
       "      <td>1.000000</td>\n",
       "      <td>-0.156187</td>\n",
       "      <td>-0.105682</td>\n",
       "      <td>-0.119054</td>\n",
       "    </tr>\n",
       "    <tr>\n",
       "      <th>sales</th>\n",
       "      <td>-0.013388</td>\n",
       "      <td>-0.001718</td>\n",
       "      <td>-0.009176</td>\n",
       "      <td>-0.004955</td>\n",
       "      <td>0.009923</td>\n",
       "      <td>0.012353</td>\n",
       "      <td>-0.035599</td>\n",
       "      <td>0.004000</td>\n",
       "      <td>-0.023133</td>\n",
       "      <td>-0.184302</td>\n",
       "      <td>-0.145300</td>\n",
       "      <td>-0.143341</td>\n",
       "      <td>-0.140562</td>\n",
       "      <td>-0.129289</td>\n",
       "      <td>-0.152093</td>\n",
       "      <td>-0.156187</td>\n",
       "      <td>1.000000</td>\n",
       "      <td>-0.257967</td>\n",
       "      <td>-0.290608</td>\n",
       "    </tr>\n",
       "    <tr>\n",
       "      <th>support</th>\n",
       "      <td>0.000303</td>\n",
       "      <td>-0.002444</td>\n",
       "      <td>-0.006185</td>\n",
       "      <td>0.012079</td>\n",
       "      <td>0.010700</td>\n",
       "      <td>-0.035605</td>\n",
       "      <td>-0.029888</td>\n",
       "      <td>0.008984</td>\n",
       "      <td>0.016764</td>\n",
       "      <td>-0.124705</td>\n",
       "      <td>-0.098315</td>\n",
       "      <td>-0.096989</td>\n",
       "      <td>-0.095109</td>\n",
       "      <td>-0.087482</td>\n",
       "      <td>-0.102911</td>\n",
       "      <td>-0.105682</td>\n",
       "      <td>-0.257967</td>\n",
       "      <td>1.000000</td>\n",
       "      <td>-0.196636</td>\n",
       "    </tr>\n",
       "    <tr>\n",
       "      <th>technical</th>\n",
       "      <td>0.028596</td>\n",
       "      <td>0.013638</td>\n",
       "      <td>0.013393</td>\n",
       "      <td>-0.006070</td>\n",
       "      <td>0.020076</td>\n",
       "      <td>-0.035799</td>\n",
       "      <td>-0.018630</td>\n",
       "      <td>-0.009418</td>\n",
       "      <td>0.014240</td>\n",
       "      <td>-0.140484</td>\n",
       "      <td>-0.110755</td>\n",
       "      <td>-0.109262</td>\n",
       "      <td>-0.107143</td>\n",
       "      <td>-0.098551</td>\n",
       "      <td>-0.115933</td>\n",
       "      <td>-0.119054</td>\n",
       "      <td>-0.290608</td>\n",
       "      <td>-0.196636</td>\n",
       "      <td>1.000000</td>\n",
       "    </tr>\n",
       "  </tbody>\n",
       "</table>\n",
       "</div>"
      ],
      "text/plain": [
       "                       number_project  average_montly_hours  \\\n",
       "number_project               1.000000              0.417211   \n",
       "average_montly_hours         0.417211              1.000000   \n",
       "time_spend_company           0.285624              0.191603   \n",
       "Work_accident               -0.004741             -0.010143   \n",
       "left                         0.023787              0.071287   \n",
       "promotion_last_5years       -0.006064             -0.003544   \n",
       "salary                      -0.001803             -0.002242   \n",
       "satisfaction_level          -0.143895             -0.020886   \n",
       "last_evaluation              0.348776              0.339014   \n",
       "IT                           0.003287              0.006967   \n",
       "RandD                        0.009703             -0.001177   \n",
       "accounting                   0.004189              0.000524   \n",
       "hr                          -0.027356             -0.010783   \n",
       "management                   0.009728              0.000834   \n",
       "marketing                   -0.023064             -0.008210   \n",
       "product_mng                  0.000829             -0.005494   \n",
       "sales                       -0.013388             -0.001718   \n",
       "support                      0.000303             -0.002444   \n",
       "technical                    0.028596              0.013638   \n",
       "\n",
       "                       time_spend_company  Work_accident      left  \\\n",
       "number_project                   0.285624      -0.004741  0.023787   \n",
       "average_montly_hours             0.191603      -0.010143  0.071287   \n",
       "time_spend_company               1.000000      -0.048954  0.353591   \n",
       "Work_accident                   -0.048954       1.000000 -0.154622   \n",
       "left                             0.353591      -0.154622  1.000000   \n",
       "promotion_last_5years           -0.017552       0.039245 -0.061788   \n",
       "salary                          -0.054537       0.009247 -0.157898   \n",
       "satisfaction_level              -0.201465       0.059063 -0.388282   \n",
       "last_evaluation                  0.184918      -0.006779  0.006876   \n",
       "IT                               0.006767      -0.009293 -0.010925   \n",
       "RandD                           -0.001901       0.017167 -0.046596   \n",
       "accounting                       0.018258      -0.012836  0.015201   \n",
       "hr                              -0.000461      -0.015649  0.028249   \n",
       "management                      -0.012181       0.011242 -0.046035   \n",
       "marketing                       -0.005683       0.011367 -0.000859   \n",
       "product_mng                     -0.001886       0.001246 -0.011029   \n",
       "sales                           -0.009176      -0.004955  0.009923   \n",
       "support                         -0.006185       0.012079  0.010700   \n",
       "technical                        0.013393      -0.006070  0.020076   \n",
       "\n",
       "                       promotion_last_5years    salary  satisfaction_level  \\\n",
       "number_project                     -0.006064 -0.001803           -0.143895   \n",
       "average_montly_hours               -0.003544 -0.002242           -0.020886   \n",
       "time_spend_company                 -0.017552 -0.054537           -0.201465   \n",
       "Work_accident                       0.039245  0.009247            0.059063   \n",
       "left                               -0.061788 -0.157898           -0.388282   \n",
       "promotion_last_5years               1.000000  0.098119            0.025925   \n",
       "salary                              0.098119  1.000000            0.049805   \n",
       "satisfaction_level                  0.025925  0.049805            1.000000   \n",
       "last_evaluation                    -0.007815 -0.013320            0.103783   \n",
       "IT                                 -0.038942 -0.010959            0.006100   \n",
       "RandD                               0.021268  0.002800            0.006622   \n",
       "accounting                         -0.004852  0.012759           -0.028452   \n",
       "hr                                 -0.001531  0.004599           -0.012826   \n",
       "management                          0.128087  0.156665            0.007601   \n",
       "marketing                           0.049253  0.011599            0.005563   \n",
       "product_mng                        -0.037288 -0.007669            0.007249   \n",
       "sales                               0.012353 -0.035599            0.004000   \n",
       "support                            -0.035605 -0.029888            0.008984   \n",
       "technical                          -0.035799 -0.018630           -0.009418   \n",
       "\n",
       "                       last_evaluation        IT     RandD  accounting  \\\n",
       "number_project                0.348776  0.003287  0.009703    0.004189   \n",
       "average_montly_hours          0.339014  0.006967 -0.001177    0.000524   \n",
       "time_spend_company            0.184918  0.006767 -0.001901    0.018258   \n",
       "Work_accident                -0.006779 -0.009293  0.017167   -0.012836   \n",
       "left                          0.006876 -0.010925 -0.046596    0.015201   \n",
       "promotion_last_5years        -0.007815 -0.038942  0.021268   -0.004852   \n",
       "salary                       -0.013320 -0.010959  0.002800    0.012759   \n",
       "satisfaction_level            0.103783  0.006100  0.006622   -0.028452   \n",
       "last_evaluation               1.000000  0.001092 -0.005498    0.002546   \n",
       "IT                            0.001092  1.000000 -0.070240   -0.069293   \n",
       "RandD                        -0.005498 -0.070240  1.000000   -0.054629   \n",
       "accounting                    0.002546 -0.069293 -0.054629    1.000000   \n",
       "hr                           -0.009387 -0.067949 -0.053570   -0.052848   \n",
       "management                    0.009867 -0.062500 -0.049274   -0.048610   \n",
       "marketing                    -0.000821 -0.073524 -0.057965   -0.057183   \n",
       "product_mng                  -0.002103 -0.075503 -0.059525   -0.058723   \n",
       "sales                        -0.023133 -0.184302 -0.145300   -0.143341   \n",
       "support                       0.016764 -0.124705 -0.098315   -0.096989   \n",
       "technical                     0.014240 -0.140484 -0.110755   -0.109262   \n",
       "\n",
       "                             hr  management  marketing  product_mng     sales  \\\n",
       "number_project        -0.027356    0.009728  -0.023064     0.000829 -0.013388   \n",
       "average_montly_hours  -0.010783    0.000834  -0.008210    -0.005494 -0.001718   \n",
       "time_spend_company    -0.000461   -0.012181  -0.005683    -0.001886 -0.009176   \n",
       "Work_accident         -0.015649    0.011242   0.011367     0.001246 -0.004955   \n",
       "left                   0.028249   -0.046035  -0.000859    -0.011029  0.009923   \n",
       "promotion_last_5years -0.001531    0.128087   0.049253    -0.037288  0.012353   \n",
       "salary                 0.004599    0.156665   0.011599    -0.007669 -0.035599   \n",
       "satisfaction_level    -0.012826    0.007601   0.005563     0.007249  0.004000   \n",
       "last_evaluation       -0.009387    0.009867  -0.000821    -0.002103 -0.023133   \n",
       "IT                    -0.067949   -0.062500  -0.073524    -0.075503 -0.184302   \n",
       "RandD                 -0.053570   -0.049274  -0.057965    -0.059525 -0.145300   \n",
       "accounting            -0.052848   -0.048610  -0.057183    -0.058723 -0.143341   \n",
       "hr                     1.000000   -0.047667  -0.056075    -0.057584 -0.140562   \n",
       "management            -0.047667    1.000000  -0.051578    -0.052966 -0.129289   \n",
       "marketing             -0.056075   -0.051578   1.000000    -0.062308 -0.152093   \n",
       "product_mng           -0.057584   -0.052966  -0.062308     1.000000 -0.156187   \n",
       "sales                 -0.140562   -0.129289  -0.152093    -0.156187  1.000000   \n",
       "support               -0.095109   -0.087482  -0.102911    -0.105682 -0.257967   \n",
       "technical             -0.107143   -0.098551  -0.115933    -0.119054 -0.290608   \n",
       "\n",
       "                        support  technical  \n",
       "number_project         0.000303   0.028596  \n",
       "average_montly_hours  -0.002444   0.013638  \n",
       "time_spend_company    -0.006185   0.013393  \n",
       "Work_accident          0.012079  -0.006070  \n",
       "left                   0.010700   0.020076  \n",
       "promotion_last_5years -0.035605  -0.035799  \n",
       "salary                -0.029888  -0.018630  \n",
       "satisfaction_level     0.008984  -0.009418  \n",
       "last_evaluation        0.016764   0.014240  \n",
       "IT                    -0.124705  -0.140484  \n",
       "RandD                 -0.098315  -0.110755  \n",
       "accounting            -0.096989  -0.109262  \n",
       "hr                    -0.095109  -0.107143  \n",
       "management            -0.087482  -0.098551  \n",
       "marketing             -0.102911  -0.115933  \n",
       "product_mng           -0.105682  -0.119054  \n",
       "sales                 -0.257967  -0.290608  \n",
       "support                1.000000  -0.196636  \n",
       "technical             -0.196636   1.000000  "
      ]
     },
     "execution_count": 65,
     "metadata": {},
     "output_type": "execute_result"
    }
   ],
   "source": [
    "df1.corr()"
   ]
  },
  {
   "cell_type": "code",
   "execution_count": 66,
   "id": "21660e83",
   "metadata": {},
   "outputs": [
    {
     "data": {
      "text/plain": [
       "<AxesSubplot:>"
      ]
     },
     "execution_count": 66,
     "metadata": {},
     "output_type": "execute_result"
    },
    {
     "data": {
      "image/png": "[encoded data removed]",
      "text/plain": [
       "<Figure size 432x288 with 2 Axes>"
      ]
     },
     "metadata": {
      "needs_background": "light"
     },
     "output_type": "display_data"
    }
   ],
   "source": [
    "sns.heatmap(df1.corr())"
   ]
  },
  {
   "cell_type": "markdown",
   "id": "77080676",
   "metadata": {},
   "source": [
    "## Model Training"
   ]
  },
  {
   "cell_type": "code",
   "execution_count": 67,
   "id": "7cade0a6",
   "metadata": {},
   "outputs": [],
   "source": [
    "x = df1.drop(\"left\",axis = 1)\n",
    "y = df1[\"left\"]"
   ]
  },
  {
   "cell_type": "code",
   "execution_count": 68,
   "id": "a0417e81",
   "metadata": {},
   "outputs": [
    {
     "data": {
      "text/plain": [
       "((14999, 18), (14999,))"
      ]
     },
     "execution_count": 68,
     "metadata": {},
     "output_type": "execute_result"
    }
   ],
   "source": [
    "x.shape, y.shape"
   ]
  },
  {
   "cell_type": "code",
   "execution_count": 69,
   "id": "b195856b",
   "metadata": {},
   "outputs": [],
   "source": [
    "x_train,x_test,y_train,y_test = train_test_split(x,y,test_size=0.2,random_state=45,stratify=y)"
   ]
  },
  {
   "cell_type": "code",
   "execution_count": 70,
   "id": "a9780070",
   "metadata": {},
   "outputs": [
    {
     "data": {
      "text/plain": [
       "LogisticRegression()"
      ]
     },
     "execution_count": 70,
     "metadata": {},
     "output_type": "execute_result"
    }
   ],
   "source": [
    "logistic_model = LogisticRegression()\n",
    "logistic_model.fit(x_train,y_train)"
   ]
  },
  {
   "cell_type": "markdown",
   "id": "7dfbec30",
   "metadata": {},
   "source": [
    "## Model Evaluation"
   ]
  },
  {
   "cell_type": "markdown",
   "id": "12c27811",
   "metadata": {},
   "source": [
    "##### On Training Data"
   ]
  },
  {
   "cell_type": "code",
   "execution_count": 71,
   "id": "8c1cebe8",
   "metadata": {},
   "outputs": [
    {
     "name": "stdout",
     "output_type": "stream",
     "text": [
      "\n",
      "Confusion Matrix\n",
      " [[8400  742]\n",
      " [1465 1392]]\n",
      "**************************************************\n",
      "Accuracy\n",
      " 0.8160680056671389\n",
      "**************************************************\n",
      "Classification Report\n",
      "               precision    recall  f1-score   support\n",
      "\n",
      "           0       0.85      0.92      0.88      9142\n",
      "           1       0.65      0.49      0.56      2857\n",
      "\n",
      "    accuracy                           0.82     11999\n",
      "   macro avg       0.75      0.70      0.72     11999\n",
      "weighted avg       0.80      0.82      0.81     11999\n",
      "\n"
     ]
    }
   ],
   "source": [
    "y_pred_train = logistic_model.predict(x_train)\n",
    "print()\n",
    "cnf_matrix = confusion_matrix(y_train,y_pred_train)\n",
    "print(\"Confusion Matrix\\n\",cnf_matrix)\n",
    "print(\"*\"*50)\n",
    "accuracy = accuracy_score(y_train,y_pred_train)\n",
    "print(\"Accuracy\\n\",accuracy)\n",
    "print(\"*\"*50)\n",
    "clf_report = classification_report(y_train,y_pred_train)\n",
    "print(\"Classification Report\\n\",clf_report)"
   ]
  },
  {
   "cell_type": "markdown",
   "id": "edab49b7",
   "metadata": {},
   "source": [
    "##### On Testing Data"
   ]
  },
  {
   "cell_type": "code",
   "execution_count": 72,
   "id": "896ba7b4",
   "metadata": {},
   "outputs": [
    {
     "name": "stdout",
     "output_type": "stream",
     "text": [
      "Confusion Matrix\n",
      " [[2133  153]\n",
      " [ 380  334]]\n",
      "**************************************************\n",
      "Accuracy\n",
      " 0.8223333333333334\n",
      "**************************************************\n",
      "Classification Report\n",
      "               precision    recall  f1-score   support\n",
      "\n",
      "           0       0.85      0.93      0.89      2286\n",
      "           1       0.69      0.47      0.56       714\n",
      "\n",
      "    accuracy                           0.82      3000\n",
      "   macro avg       0.77      0.70      0.72      3000\n",
      "weighted avg       0.81      0.82      0.81      3000\n",
      "\n"
     ]
    }
   ],
   "source": [
    "y_pred_test = logistic_model.predict(x_test)\n",
    "cnf_matrix = confusion_matrix(y_test,y_pred_test)\n",
    "print(\"Confusion Matrix\\n\",cnf_matrix)\n",
    "print(\"*\"*50)\n",
    "accuracy = accuracy_score(y_test,y_pred_test)\n",
    "print(\"Accuracy\\n\",accuracy)\n",
    "print(\"*\"*50)\n",
    "clf_report = classification_report(y_test,y_pred_test)\n",
    "print(\"Classification Report\\n\",clf_report)"
   ]
  },
  {
   "cell_type": "code",
   "execution_count": null,
   "id": "5109190e",
   "metadata": {},
   "outputs": [],
   "source": []
  }
 ],
 "metadata": {
  "kernelspec": {
   "display_name": "Python 3",
   "language": "python",
   "name": "python3"
  },
  "language_info": {
   "codemirror_mode": {
    "name": "ipython",
    "version": 3
   },
   "file_extension": ".py",
   "mimetype": "text/x-python",
   "name": "python",
   "nbconvert_exporter": "python",
   "pygments_lexer": "ipython3",
   "version": "3.8.10"
  }
 },
 "nbformat": 4,
 "nbformat_minor": 5
}
